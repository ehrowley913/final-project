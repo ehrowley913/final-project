{
 "cells": [
  {
   "cell_type": "markdown",
   "metadata": {},
   "source": [
    "Final Project Biof309:  Investigating global tuberculosis trends from 2000 to 2018"
   ]
  },
  {
   "cell_type": "markdown",
   "metadata": {},
   "source": [
    "Author: Emma Rowley"
   ]
  },
  {
   "cell_type": "markdown",
   "metadata": {},
   "source": [
    "Description:  Tuberculosis (TB) is the worlds leading cause of mortality from infectious disease.  Despite being both prevantable and curable more than 10 million cases and 1.5 million deaths occur per year. Significant improvements to the number of incident cases and mortality rates have been made in recent years.  This project will utilized the World Health Organizations published data on TB to explore TB trends over the past two decades. \n"
   ]
  },
  {
   "cell_type": "markdown",
   "metadata": {},
   "source": [
    "Import and install packages"
   ]
  },
  {
   "cell_type": "code",
   "execution_count": 279,
   "metadata": {},
   "outputs": [],
   "source": [
    "import numpy as np"
   ]
  },
  {
   "cell_type": "code",
   "execution_count": 280,
   "metadata": {},
   "outputs": [],
   "source": [
    "import pandas as pd"
   ]
  },
  {
   "cell_type": "code",
   "execution_count": 281,
   "metadata": {},
   "outputs": [],
   "source": [
    "import matplotlib.pyplot as plt"
   ]
  },
  {
   "cell_type": "code",
   "execution_count": 282,
   "metadata": {},
   "outputs": [],
   "source": [
    "import seaborn as sns"
   ]
  },
  {
   "cell_type": "markdown",
   "metadata": {},
   "source": [
    "Task 1:  Uploading data and getting familiar "
   ]
  },
  {
   "cell_type": "markdown",
   "metadata": {},
   "source": [
    "All data sets used in this project were obtained from the World Health Organization and can be found at https://www.who.int/tb/country/data/download/en/"
   ]
  },
  {
   "cell_type": "code",
   "execution_count": 283,
   "metadata": {},
   "outputs": [],
   "source": [
    "TB_data = pd.read_csv(\"TB_burden.csv\")"
   ]
  },
  {
   "cell_type": "code",
   "execution_count": 284,
   "metadata": {},
   "outputs": [
    {
     "data": {
      "text/html": [
       "<div>\n",
       "<style scoped>\n",
       "    .dataframe tbody tr th:only-of-type {\n",
       "        vertical-align: middle;\n",
       "    }\n",
       "\n",
       "    .dataframe tbody tr th {\n",
       "        vertical-align: top;\n",
       "    }\n",
       "\n",
       "    .dataframe thead th {\n",
       "        text-align: right;\n",
       "    }\n",
       "</style>\n",
       "<table border=\"1\" class=\"dataframe\">\n",
       "  <thead>\n",
       "    <tr style=\"text-align: right;\">\n",
       "      <th></th>\n",
       "      <th>country</th>\n",
       "      <th>iso2</th>\n",
       "      <th>iso3</th>\n",
       "      <th>iso_numeric</th>\n",
       "      <th>g_whoregion</th>\n",
       "      <th>year</th>\n",
       "      <th>e_pop_num</th>\n",
       "      <th>e_inc_100k</th>\n",
       "      <th>e_inc_100k_lo</th>\n",
       "      <th>e_inc_100k_hi</th>\n",
       "      <th>...</th>\n",
       "      <th>cfr</th>\n",
       "      <th>cfr_lo</th>\n",
       "      <th>cfr_hi</th>\n",
       "      <th>cfr_pct</th>\n",
       "      <th>cfr_pct_lo</th>\n",
       "      <th>cfr_pct_hi</th>\n",
       "      <th>c_newinc_100k</th>\n",
       "      <th>c_cdr</th>\n",
       "      <th>c_cdr_lo</th>\n",
       "      <th>c_cdr_hi</th>\n",
       "    </tr>\n",
       "  </thead>\n",
       "  <tbody>\n",
       "    <tr>\n",
       "      <td>0</td>\n",
       "      <td>Afghanistan</td>\n",
       "      <td>AF</td>\n",
       "      <td>AFG</td>\n",
       "      <td>4</td>\n",
       "      <td>EMR</td>\n",
       "      <td>2000</td>\n",
       "      <td>20779953</td>\n",
       "      <td>190.0</td>\n",
       "      <td>123.0</td>\n",
       "      <td>271.0</td>\n",
       "      <td>...</td>\n",
       "      <td>NaN</td>\n",
       "      <td>NaN</td>\n",
       "      <td>NaN</td>\n",
       "      <td>NaN</td>\n",
       "      <td>NaN</td>\n",
       "      <td>NaN</td>\n",
       "      <td>34.0</td>\n",
       "      <td>18.0</td>\n",
       "      <td>13.0</td>\n",
       "      <td>28.0</td>\n",
       "    </tr>\n",
       "    <tr>\n",
       "      <td>1</td>\n",
       "      <td>Afghanistan</td>\n",
       "      <td>AF</td>\n",
       "      <td>AFG</td>\n",
       "      <td>4</td>\n",
       "      <td>EMR</td>\n",
       "      <td>2001</td>\n",
       "      <td>21606988</td>\n",
       "      <td>189.0</td>\n",
       "      <td>123.0</td>\n",
       "      <td>271.0</td>\n",
       "      <td>...</td>\n",
       "      <td>NaN</td>\n",
       "      <td>NaN</td>\n",
       "      <td>NaN</td>\n",
       "      <td>NaN</td>\n",
       "      <td>NaN</td>\n",
       "      <td>NaN</td>\n",
       "      <td>47.0</td>\n",
       "      <td>25.0</td>\n",
       "      <td>17.0</td>\n",
       "      <td>38.0</td>\n",
       "    </tr>\n",
       "    <tr>\n",
       "      <td>2</td>\n",
       "      <td>Afghanistan</td>\n",
       "      <td>AF</td>\n",
       "      <td>AFG</td>\n",
       "      <td>4</td>\n",
       "      <td>EMR</td>\n",
       "      <td>2002</td>\n",
       "      <td>22600770</td>\n",
       "      <td>189.0</td>\n",
       "      <td>122.0</td>\n",
       "      <td>270.0</td>\n",
       "      <td>...</td>\n",
       "      <td>NaN</td>\n",
       "      <td>NaN</td>\n",
       "      <td>NaN</td>\n",
       "      <td>NaN</td>\n",
       "      <td>NaN</td>\n",
       "      <td>NaN</td>\n",
       "      <td>61.0</td>\n",
       "      <td>32.0</td>\n",
       "      <td>23.0</td>\n",
       "      <td>50.0</td>\n",
       "    </tr>\n",
       "    <tr>\n",
       "      <td>3</td>\n",
       "      <td>Afghanistan</td>\n",
       "      <td>AF</td>\n",
       "      <td>AFG</td>\n",
       "      <td>4</td>\n",
       "      <td>EMR</td>\n",
       "      <td>2003</td>\n",
       "      <td>23680871</td>\n",
       "      <td>189.0</td>\n",
       "      <td>122.0</td>\n",
       "      <td>270.0</td>\n",
       "      <td>...</td>\n",
       "      <td>NaN</td>\n",
       "      <td>NaN</td>\n",
       "      <td>NaN</td>\n",
       "      <td>NaN</td>\n",
       "      <td>NaN</td>\n",
       "      <td>NaN</td>\n",
       "      <td>58.0</td>\n",
       "      <td>31.0</td>\n",
       "      <td>22.0</td>\n",
       "      <td>48.0</td>\n",
       "    </tr>\n",
       "    <tr>\n",
       "      <td>4</td>\n",
       "      <td>Afghanistan</td>\n",
       "      <td>AF</td>\n",
       "      <td>AFG</td>\n",
       "      <td>4</td>\n",
       "      <td>EMR</td>\n",
       "      <td>2004</td>\n",
       "      <td>24726684</td>\n",
       "      <td>189.0</td>\n",
       "      <td>122.0</td>\n",
       "      <td>270.0</td>\n",
       "      <td>...</td>\n",
       "      <td>NaN</td>\n",
       "      <td>NaN</td>\n",
       "      <td>NaN</td>\n",
       "      <td>NaN</td>\n",
       "      <td>NaN</td>\n",
       "      <td>NaN</td>\n",
       "      <td>74.0</td>\n",
       "      <td>39.0</td>\n",
       "      <td>28.0</td>\n",
       "      <td>61.0</td>\n",
       "    </tr>\n",
       "  </tbody>\n",
       "</table>\n",
       "<p>5 rows × 50 columns</p>\n",
       "</div>"
      ],
      "text/plain": [
       "       country iso2 iso3  iso_numeric g_whoregion  year  e_pop_num  \\\n",
       "0  Afghanistan   AF  AFG            4         EMR  2000   20779953   \n",
       "1  Afghanistan   AF  AFG            4         EMR  2001   21606988   \n",
       "2  Afghanistan   AF  AFG            4         EMR  2002   22600770   \n",
       "3  Afghanistan   AF  AFG            4         EMR  2003   23680871   \n",
       "4  Afghanistan   AF  AFG            4         EMR  2004   24726684   \n",
       "\n",
       "   e_inc_100k  e_inc_100k_lo  e_inc_100k_hi  ...  cfr  cfr_lo  cfr_hi  \\\n",
       "0       190.0          123.0          271.0  ...  NaN     NaN     NaN   \n",
       "1       189.0          123.0          271.0  ...  NaN     NaN     NaN   \n",
       "2       189.0          122.0          270.0  ...  NaN     NaN     NaN   \n",
       "3       189.0          122.0          270.0  ...  NaN     NaN     NaN   \n",
       "4       189.0          122.0          270.0  ...  NaN     NaN     NaN   \n",
       "\n",
       "   cfr_pct  cfr_pct_lo  cfr_pct_hi  c_newinc_100k  c_cdr  c_cdr_lo  c_cdr_hi  \n",
       "0      NaN         NaN         NaN           34.0   18.0      13.0      28.0  \n",
       "1      NaN         NaN         NaN           47.0   25.0      17.0      38.0  \n",
       "2      NaN         NaN         NaN           61.0   32.0      23.0      50.0  \n",
       "3      NaN         NaN         NaN           58.0   31.0      22.0      48.0  \n",
       "4      NaN         NaN         NaN           74.0   39.0      28.0      61.0  \n",
       "\n",
       "[5 rows x 50 columns]"
      ]
     },
     "execution_count": 284,
     "metadata": {},
     "output_type": "execute_result"
    }
   ],
   "source": [
    "TB_data.head()"
   ]
  },
  {
   "cell_type": "markdown",
   "metadata": {},
   "source": [
    "What do the variables seen above mean? - Definitions of variable names can be found by downloading the data dictionary csv from the link found on the original page\n",
    "Lets read this csv into a data frame so we are able to look up the meanings of variables if needed"
   ]
  },
  {
   "cell_type": "code",
   "execution_count": 285,
   "metadata": {},
   "outputs": [],
   "source": [
    "TB_data_dictionary = pd.read_csv(\"TB_data_dictionary.csv\")"
   ]
  },
  {
   "cell_type": "code",
   "execution_count": 286,
   "metadata": {},
   "outputs": [
    {
     "data": {
      "text/html": [
       "<div>\n",
       "<style scoped>\n",
       "    .dataframe tbody tr th:only-of-type {\n",
       "        vertical-align: middle;\n",
       "    }\n",
       "\n",
       "    .dataframe tbody tr th {\n",
       "        vertical-align: top;\n",
       "    }\n",
       "\n",
       "    .dataframe thead th {\n",
       "        text-align: right;\n",
       "    }\n",
       "</style>\n",
       "<table border=\"1\" class=\"dataframe\">\n",
       "  <thead>\n",
       "    <tr style=\"text-align: right;\">\n",
       "      <th></th>\n",
       "      <th>dataset</th>\n",
       "      <th>code_list</th>\n",
       "      <th>definition</th>\n",
       "    </tr>\n",
       "    <tr>\n",
       "      <th>variable_name</th>\n",
       "      <th></th>\n",
       "      <th></th>\n",
       "      <th></th>\n",
       "    </tr>\n",
       "  </thead>\n",
       "  <tbody>\n",
       "    <tr>\n",
       "      <td>budget_cpp_dstb</td>\n",
       "      <td>Budget</td>\n",
       "      <td>NaN</td>\n",
       "      <td>Average cost of drugs budgeted per patient for...</td>\n",
       "    </tr>\n",
       "    <tr>\n",
       "      <td>budget_cpp_mdr</td>\n",
       "      <td>Budget</td>\n",
       "      <td>NaN</td>\n",
       "      <td>Average cost of drugs budgeted per patient for...</td>\n",
       "    </tr>\n",
       "    <tr>\n",
       "      <td>budget_cpp_xdr</td>\n",
       "      <td>Budget</td>\n",
       "      <td>NaN</td>\n",
       "      <td>Average cost of drugs budgeted per patient for...</td>\n",
       "    </tr>\n",
       "    <tr>\n",
       "      <td>budget_fld</td>\n",
       "      <td>Budget</td>\n",
       "      <td>NaN</td>\n",
       "      <td>Budget required for drugs to treat drug-suscep...</td>\n",
       "    </tr>\n",
       "    <tr>\n",
       "      <td>budget_lab</td>\n",
       "      <td>Budget</td>\n",
       "      <td>NaN</td>\n",
       "      <td>Budget required for laboratory infrastructure,...</td>\n",
       "    </tr>\n",
       "    <tr>\n",
       "      <td>...</td>\n",
       "      <td>...</td>\n",
       "      <td>...</td>\n",
       "      <td>...</td>\n",
       "    </tr>\n",
       "    <tr>\n",
       "      <td>ptsurvey_newinc_con_prevtx</td>\n",
       "      <td>Policies and services</td>\n",
       "      <td>NaN</td>\n",
       "      <td>(If prevtx_data_available=61) Number of househ...</td>\n",
       "    </tr>\n",
       "    <tr>\n",
       "      <td>pub_new_dx</td>\n",
       "      <td>Policies and services</td>\n",
       "      <td>NaN</td>\n",
       "      <td>Number of new cases of TB diagnosed according ...</td>\n",
       "    </tr>\n",
       "    <tr>\n",
       "      <td>pulm_spec_available</td>\n",
       "      <td>Policies and services</td>\n",
       "      <td>0=No; 1=Yes; 2=Not applicable</td>\n",
       "      <td>Are data available on the number of bacteriolo...</td>\n",
       "    </tr>\n",
       "    <tr>\n",
       "      <td>universal_dst</td>\n",
       "      <td>Policies and services</td>\n",
       "      <td>0=No; 1=yes</td>\n",
       "      <td>Does national policy and the diagnostic algori...</td>\n",
       "    </tr>\n",
       "    <tr>\n",
       "      <td>wrd_initial_test</td>\n",
       "      <td>Policies and services</td>\n",
       "      <td>0=No; 1=yes</td>\n",
       "      <td>Does national policy and the diagnostic algori...</td>\n",
       "    </tr>\n",
       "  </tbody>\n",
       "</table>\n",
       "<p>495 rows × 3 columns</p>\n",
       "</div>"
      ],
      "text/plain": [
       "                                          dataset  \\\n",
       "variable_name                                       \n",
       "budget_cpp_dstb                            Budget   \n",
       "budget_cpp_mdr                             Budget   \n",
       "budget_cpp_xdr                             Budget   \n",
       "budget_fld                                 Budget   \n",
       "budget_lab                                 Budget   \n",
       "...                                           ...   \n",
       "ptsurvey_newinc_con_prevtx  Policies and services   \n",
       "pub_new_dx                  Policies and services   \n",
       "pulm_spec_available         Policies and services   \n",
       "universal_dst               Policies and services   \n",
       "wrd_initial_test            Policies and services   \n",
       "\n",
       "                                                code_list  \\\n",
       "variable_name                                               \n",
       "budget_cpp_dstb                                       NaN   \n",
       "budget_cpp_mdr                                        NaN   \n",
       "budget_cpp_xdr                                        NaN   \n",
       "budget_fld                                            NaN   \n",
       "budget_lab                                            NaN   \n",
       "...                                                   ...   \n",
       "ptsurvey_newinc_con_prevtx                            NaN   \n",
       "pub_new_dx                                            NaN   \n",
       "pulm_spec_available         0=No; 1=Yes; 2=Not applicable   \n",
       "universal_dst                                 0=No; 1=yes   \n",
       "wrd_initial_test                              0=No; 1=yes   \n",
       "\n",
       "                                                                   definition  \n",
       "variable_name                                                                  \n",
       "budget_cpp_dstb             Average cost of drugs budgeted per patient for...  \n",
       "budget_cpp_mdr              Average cost of drugs budgeted per patient for...  \n",
       "budget_cpp_xdr              Average cost of drugs budgeted per patient for...  \n",
       "budget_fld                  Budget required for drugs to treat drug-suscep...  \n",
       "budget_lab                  Budget required for laboratory infrastructure,...  \n",
       "...                                                                       ...  \n",
       "ptsurvey_newinc_con_prevtx  (If prevtx_data_available=61) Number of househ...  \n",
       "pub_new_dx                  Number of new cases of TB diagnosed according ...  \n",
       "pulm_spec_available         Are data available on the number of bacteriolo...  \n",
       "universal_dst               Does national policy and the diagnostic algori...  \n",
       "wrd_initial_test            Does national policy and the diagnostic algori...  \n",
       "\n",
       "[495 rows x 3 columns]"
      ]
     },
     "execution_count": 286,
     "metadata": {},
     "output_type": "execute_result"
    }
   ],
   "source": [
    "TB_data_dictionary.set_index(\"variable_name\")\n",
    "#setting the index as variable name to make it quick and easy to find the definitions of a given variable"
   ]
  },
  {
   "cell_type": "markdown",
   "metadata": {},
   "source": [
    "How many rows and columns are present in the TB burden CSV? "
   ]
  },
  {
   "cell_type": "code",
   "execution_count": 287,
   "metadata": {},
   "outputs": [
    {
     "data": {
      "text/plain": [
       "(4040, 50)"
      ]
     },
     "execution_count": 287,
     "metadata": {},
     "output_type": "execute_result"
    }
   ],
   "source": [
    "TB_data.shape"
   ]
  },
  {
   "cell_type": "markdown",
   "metadata": {},
   "source": [
    "There are 4040 rows and 50 columns or variables present.  Each row contains a country and year of collection and then various data collected about tuberculosis incidence from that year for example cfr is the case fatality ratio of TB for the given year "
   ]
  },
  {
   "cell_type": "markdown",
   "metadata": {},
   "source": [
    "Is this data set complete?  Do all countries and years have data for the variables of interest?"
   ]
  },
  {
   "cell_type": "code",
   "execution_count": 288,
   "metadata": {},
   "outputs": [],
   "source": [
    "missing_obs = TB_data.isna().sum()"
   ]
  },
  {
   "cell_type": "code",
   "execution_count": 289,
   "metadata": {},
   "outputs": [],
   "source": [
    "missing_proportion = missing_obs / 4040"
   ]
  },
  {
   "cell_type": "code",
   "execution_count": 290,
   "metadata": {},
   "outputs": [
    {
     "name": "stdout",
     "output_type": "stream",
     "text": [
      "country                     0.000000\n",
      "iso2                        0.004703\n",
      "iso3                        0.000000\n",
      "iso_numeric                 0.000000\n",
      "g_whoregion                 0.000000\n",
      "year                        0.000000\n",
      "e_pop_num                   0.000000\n",
      "e_inc_100k                  0.000000\n",
      "e_inc_100k_lo               0.000000\n",
      "e_inc_100k_hi               0.000000\n",
      "e_inc_num                   0.000000\n",
      "e_inc_num_lo                0.000000\n",
      "e_inc_num_hi                0.000000\n",
      "e_tbhiv_prct                0.151733\n",
      "e_tbhiv_prct_lo             0.151733\n",
      "e_tbhiv_prct_hi             0.151733\n",
      "e_inc_tbhiv_100k            0.151733\n",
      "e_inc_tbhiv_100k_lo         0.151733\n",
      "e_inc_tbhiv_100k_hi         0.151733\n",
      "e_inc_tbhiv_num             0.151733\n",
      "e_inc_tbhiv_num_lo          0.151733\n",
      "e_inc_tbhiv_num_hi          0.151733\n",
      "e_mort_exc_tbhiv_100k       0.000000\n",
      "e_mort_exc_tbhiv_100k_lo    0.000000\n",
      "e_mort_exc_tbhiv_100k_hi    0.000000\n",
      "e_mort_exc_tbhiv_num        0.000000\n",
      "e_mort_exc_tbhiv_num_lo     0.000000\n",
      "e_mort_exc_tbhiv_num_hi     0.000000\n",
      "e_mort_tbhiv_100k           0.000000\n",
      "e_mort_tbhiv_100k_lo        0.000000\n",
      "e_mort_tbhiv_100k_hi        0.000000\n",
      "e_mort_tbhiv_num            0.000000\n",
      "e_mort_tbhiv_num_lo         0.000000\n",
      "e_mort_tbhiv_num_hi         0.000000\n",
      "e_mort_100k                 0.000000\n",
      "e_mort_100k_lo              0.000000\n",
      "e_mort_100k_hi              0.000000\n",
      "e_mort_num                  0.000000\n",
      "e_mort_num_lo               0.000000\n",
      "e_mort_num_hi               0.000000\n",
      "cfr                         0.948515\n",
      "cfr_lo                      0.948515\n",
      "cfr_hi                      0.948515\n",
      "cfr_pct                     0.948515\n",
      "cfr_pct_lo                  0.948515\n",
      "cfr_pct_hi                  0.948515\n",
      "c_newinc_100k               0.038119\n",
      "c_cdr                       0.061881\n",
      "c_cdr_lo                    0.061881\n",
      "c_cdr_hi                    0.061881\n",
      "dtype: float64\n"
     ]
    }
   ],
   "source": [
    "print(missing_proportion)"
   ]
  },
  {
   "cell_type": "markdown",
   "metadata": {},
   "source": [
    "No the the dataset is not complete.  Some variables like e_mort_100k (estimated mortality of all TB cases per 100k) have data points for every row, while others like cfr (case fatality ratio) are missing signifcant portions of data."
   ]
  },
  {
   "cell_type": "markdown",
   "metadata": {},
   "source": [
    "Countries are labelled with their fullname, a 2 letter identifier (Iso2), a 3 letter identifier (Iso3), and a numeric identifier (Iso_numeric).  They are also grouped by geographic region (g_whoregion).  However, the definition of g_whoregion does not occur in the csv contianing the variable defintions.  So how many regions are the countries grouped into and what exactly are these regions?"
   ]
  },
  {
   "cell_type": "code",
   "execution_count": 291,
   "metadata": {},
   "outputs": [
    {
     "data": {
      "text/plain": [
       "EUR    1016\n",
       "AFR     882\n",
       "AMR     844\n",
       "WPR     684\n",
       "EMR     407\n",
       "SEA     207\n",
       "Name: g_whoregion, dtype: int64"
      ]
     },
     "execution_count": 291,
     "metadata": {},
     "output_type": "execute_result"
    }
   ],
   "source": [
    "TB_data[\"g_whoregion\"].value_counts()"
   ]
  },
  {
   "cell_type": "markdown",
   "metadata": {},
   "source": [
    "The countries are grouped into 6 regions.  The full identifiers of the regio codes can be found at: https://apps.who.int/gho/data/node.metadata.REGION?lang=en"
   ]
  },
  {
   "cell_type": "markdown",
   "metadata": {},
   "source": [
    "What years does this data set contain?  And are all countries accounted for in all years?  Or have some countries only more recently begun collecting this data?"
   ]
  },
  {
   "cell_type": "code",
   "execution_count": 292,
   "metadata": {},
   "outputs": [
    {
     "data": {
      "text/plain": [
       "2017    216\n",
       "2015    216\n",
       "2012    216\n",
       "2014    216\n",
       "2016    216\n",
       "2018    216\n",
       "2011    216\n",
       "2013    216\n",
       "2010    214\n",
       "2005    211\n",
       "2007    211\n",
       "2009    211\n",
       "2008    211\n",
       "2006    211\n",
       "2003    209\n",
       "2004    209\n",
       "2002    209\n",
       "2001    208\n",
       "2000    208\n",
       "Name: year, dtype: int64"
      ]
     },
     "execution_count": 292,
     "metadata": {},
     "output_type": "execute_result"
    }
   ],
   "source": [
    "TB_data[\"year\"].value_counts()"
   ]
  },
  {
   "cell_type": "markdown",
   "metadata": {},
   "source": [
    "This data set contains information on TB incidence from 2000 to 2018.  There are more countries with available data in 2018 than there were in 2000."
   ]
  },
  {
   "cell_type": "markdown",
   "metadata": {},
   "source": [
    "Now that we have familiarized ourselves a bit with this data set.  Lets see what we can learn from it. "
   ]
  },
  {
   "cell_type": "markdown",
   "metadata": {},
   "source": [
    "Task 2: Lets see how the total incidence of TB has changed from 2000 to 2018 on a global scale.  We can do this by creating a list of total number of incident cases per year and visualizing it as a plot."
   ]
  },
  {
   "cell_type": "code",
   "execution_count": 293,
   "metadata": {},
   "outputs": [],
   "source": [
    "list_of_years = (TB_data.drop_duplicates(\"year\")[\"year\"]).tolist()"
   ]
  },
  {
   "cell_type": "code",
   "execution_count": 294,
   "metadata": {},
   "outputs": [
    {
     "name": "stdout",
     "output_type": "stream",
     "text": [
      "[2000, 2001, 2002, 2003, 2004, 2005, 2006, 2007, 2008, 2009, 2010, 2011, 2012, 2013, 2014, 2015, 2016, 2017, 2018]\n"
     ]
    }
   ],
   "source": [
    "print(list_of_years)"
   ]
  },
  {
   "cell_type": "code",
   "execution_count": 300,
   "metadata": {},
   "outputs": [],
   "source": [
    "e_inc_num_by_year = []\n",
    "for x in list_of_years:\n",
    "    def data_by_year(x):\n",
    "        \"\"\"This function will yield the sum of all incident cases for all countries in a given year.\"\"\"\n",
    "        TB_data_year = TB_data[TB_data[\"year\"]==x]\n",
    "        return TB_data_year[\"e_inc_num\"].sum()\n",
    "    e_inc_num_by_year.append(data_by_year(x))"
   ]
  },
  {
   "cell_type": "markdown",
   "metadata": {},
   "source": [
    "Now we have a list of the total number of incident cases for each year reported on in the data. Lets visualize the trend that the total number of cases has followed."
   ]
  },
  {
   "cell_type": "code",
   "execution_count": 303,
   "metadata": {
    "scrolled": true
   },
   "outputs": [
    {
     "data": {
      "image/png": "[encoded data removed]",
      "text/plain": [
       "<Figure size 432x288 with 1 Axes>"
      ]
     },
     "metadata": {
      "needs_background": "light"
     },
     "output_type": "display_data"
    }
   ],
   "source": [
    "import matplotlib.pyplot as plt\n",
    "fig, ax = plt.subplots()\n",
    "ax.plot(list_of_years, e_inc_num_by_year, \"bo\", linestyle=\"solid\")\n",
    "ax.set_xlabel(\"Year\")\n",
    "ax.set_ylabel(\"Estimated number of Incident Cases\")\n",
    "ax.set_xticks([2000, 2002, 2004, 2006, 2008, 2010, 2012, 2014, 2016, 2018])\n",
    "ax.ticklabel_format(useOffset=False, style='plain')\n",
    "ax.set_title(\"Total Global Incidence of Tuberculosis\")\n",
    "plt.show()"
   ]
  },
  {
   "cell_type": "markdown",
   "metadata": {},
   "source": [
    "Overall, the data shows us that the overall number TB cases globally has decreased from 2000 to 2018.  The number of cases increased in the early 2000's and has decreased from 2005 onwards.  "
   ]
  },
  {
   "cell_type": "markdown",
   "metadata": {},
   "source": [
    "Task 3:  Let's see if all geographic regions have followed the same trend in overall incidence.  To do this lets create lists of total TB incidence per year based on geographic region. "
   ]
  },
  {
   "cell_type": "code",
   "execution_count": 304,
   "metadata": {},
   "outputs": [],
   "source": [
    "TB_data_EMR = TB_data[TB_data[\"g_whoregion\"] == \"EMR\"]"
   ]
  },
  {
   "cell_type": "code",
   "execution_count": 305,
   "metadata": {},
   "outputs": [],
   "source": [
    "e_inc_num_by_EMRyear = []\n",
    "for x in list_of_years:\n",
    "    def data_by_year(x):\n",
    "        TB_data_EMRyear = TB_data_EMR[TB_data_EMR[\"year\"]==x]\n",
    "        return TB_data_EMRyear[\"e_inc_num\"].sum()\n",
    "    e_inc_num_by_EMRyear.append(data_by_year(x))"
   ]
  },
  {
   "cell_type": "code",
   "execution_count": 306,
   "metadata": {},
   "outputs": [],
   "source": [
    "TB_data_AFR = TB_data[TB_data[\"g_whoregion\"] == \"AFR\"]"
   ]
  },
  {
   "cell_type": "code",
   "execution_count": 307,
   "metadata": {},
   "outputs": [],
   "source": [
    "e_inc_num_by_AFRyear = []\n",
    "for x in list_of_years:\n",
    "    def data_by_year(x):\n",
    "        TB_data_AFRyear = TB_data_AFR[TB_data_AFR[\"year\"]==x]\n",
    "        return TB_data_AFRyear[\"e_inc_num\"].sum()\n",
    "    e_inc_num_by_AFRyear.append(data_by_year(x))"
   ]
  },
  {
   "cell_type": "code",
   "execution_count": 308,
   "metadata": {},
   "outputs": [],
   "source": [
    "TB_data_EUR = TB_data[TB_data[\"g_whoregion\"] == \"EUR\"]"
   ]
  },
  {
   "cell_type": "code",
   "execution_count": 309,
   "metadata": {},
   "outputs": [],
   "source": [
    "e_inc_num_by_EURyear = []\n",
    "for x in list_of_years:\n",
    "    def data_by_year(x):\n",
    "        TB_data_EURyear = TB_data_EUR[TB_data_EUR[\"year\"]==x]\n",
    "        return TB_data_EURyear[\"e_inc_num\"].sum()\n",
    "    e_inc_num_by_EURyear.append(data_by_year(x))"
   ]
  },
  {
   "cell_type": "code",
   "execution_count": 310,
   "metadata": {},
   "outputs": [],
   "source": [
    "TB_data_AMR = TB_data[TB_data[\"g_whoregion\"] == \"AMR\"]"
   ]
  },
  {
   "cell_type": "code",
   "execution_count": 311,
   "metadata": {},
   "outputs": [],
   "source": [
    "e_inc_num_by_AMRyear = []\n",
    "for x in list_of_years:\n",
    "    def data_by_year(x):\n",
    "        TB_data_AMRyear = TB_data_AMR[TB_data_AMR[\"year\"]==x]\n",
    "        return TB_data_AMRyear[\"e_inc_num\"].sum()\n",
    "    e_inc_num_by_AMRyear.append(data_by_year(x))"
   ]
  },
  {
   "cell_type": "code",
   "execution_count": 312,
   "metadata": {},
   "outputs": [],
   "source": [
    "TB_data_WPR = TB_data[TB_data[\"g_whoregion\"] == \"WPR\"]"
   ]
  },
  {
   "cell_type": "code",
   "execution_count": 313,
   "metadata": {},
   "outputs": [],
   "source": [
    "e_inc_num_by_WPRyear = []\n",
    "for x in list_of_years:\n",
    "    def data_by_year(x):\n",
    "        TB_data_WPRyear = TB_data_WPR[TB_data_WPR[\"year\"]==x]\n",
    "        return TB_data_WPRyear[\"e_inc_num\"].sum()\n",
    "    e_inc_num_by_WPRyear.append(data_by_year(x))"
   ]
  },
  {
   "cell_type": "code",
   "execution_count": 314,
   "metadata": {},
   "outputs": [],
   "source": [
    "TB_data_SEA = TB_data[TB_data[\"g_whoregion\"] == \"SEA\"]"
   ]
  },
  {
   "cell_type": "code",
   "execution_count": 315,
   "metadata": {},
   "outputs": [],
   "source": [
    "e_inc_num_by_SEAyear = []\n",
    "for x in list_of_years:\n",
    "    def data_by_year(x):\n",
    "        TB_data_SEAyear = TB_data_SEA[TB_data_SEA[\"year\"]==x]\n",
    "        return TB_data_SEAyear[\"e_inc_num\"].sum()\n",
    "    e_inc_num_by_SEAyear.append(data_by_year(x))"
   ]
  },
  {
   "cell_type": "markdown",
   "metadata": {},
   "source": [
    "Now that we have the total number of incident cases by year for each region, lets use a plot to visualize the trends. "
   ]
  },
  {
   "cell_type": "code",
   "execution_count": 323,
   "metadata": {},
   "outputs": [
    {
     "data": {
      "image/png": "[encoded data removed]",
      "text/plain": [
       "<Figure size 432x288 with 1 Axes>"
      ]
     },
     "metadata": {
      "needs_background": "light"
     },
     "output_type": "display_data"
    }
   ],
   "source": [
    "import matplotlib.pyplot as plt\n",
    "fig, ax = plt.subplots()\n",
    "ax.plot(list_of_years, e_inc_num_by_EMRyear, label=\"Eastern Mediterranean\", linestyle=\"solid\")\n",
    "ax.plot(list_of_years, e_inc_num_by_AFRyear, label=\"Africa\", linestyle=\"solid\")\n",
    "ax.plot(list_of_years, e_inc_num_by_EURyear, label=\"Europe\", linestyle=\"solid\")\n",
    "ax.plot(list_of_years, e_inc_num_by_AMRyear, label=\"Americas\", linestyle=\"solid\")\n",
    "ax.plot(list_of_years, e_inc_num_by_WPRyear, label=\"Western Pacific Region\", linestyle=\"solid\")\n",
    "ax.plot(list_of_years, e_inc_num_by_SEAyear, label= \"South East Asia\", linestyle=\"solid\")\n",
    "ax.set_xlabel(\"Year\")\n",
    "ax.set_ylabel(\"Number of Incident Cases\")\n",
    "ax.set_xticks([2000, 2002, 2004, 2006, 2008, 2010, 2012, 2014, 2016, 2018])\n",
    "plt.legend()\n",
    "plt.show()"
   ]
  },
  {
   "cell_type": "markdown",
   "metadata": {},
   "source": [
    "This plot shows us that South East Asian countries account for the majority of TB cases.  However, their overall cases incidence numbers have followed the same trend as the global plot we created. Overall, cases declined from 2000 to 2018 with increases in cases occuring in the early 2000s. The Western Pacific Region, and Europe have seen steady declines in cases since 2000, while incidence has remained fairly consistent in the US. Africa and the Eastern Mediterranean have actually seen slight increases in cases from 2000 to 2018.  So, TB incidence is declining on the whole, but not all countries and regions have seen a decline in cases."
   ]
  },
  {
   "cell_type": "markdown",
   "metadata": {},
   "source": [
    "Task 4: Lets see what countries have actually seen increases in tuberculosis cases since 2000. To do this, we can create a table with only the countries that have seen case increases and since 2000 and then see to what extent these increases have occurred. Since population has changed overtime,  lets look at the numbers per 100k instead of overall numbers cases. "
   ]
  },
  {
   "cell_type": "code",
   "execution_count": 325,
   "metadata": {},
   "outputs": [],
   "source": [
    "TB_data_2000 = TB_data[TB_data[\"year\"] == 2000]"
   ]
  },
  {
   "cell_type": "code",
   "execution_count": 326,
   "metadata": {},
   "outputs": [],
   "source": [
    "TB_2000_candinc =  TB_data_2000[[\"country\", \"g_whoregion\", \"e_inc_100k\"]]"
   ]
  },
  {
   "cell_type": "code",
   "execution_count": 327,
   "metadata": {},
   "outputs": [],
   "source": [
    "TB_2000_index = TB_2000_candinc.set_index(\"country\")"
   ]
  },
  {
   "cell_type": "code",
   "execution_count": 328,
   "metadata": {},
   "outputs": [],
   "source": [
    "TB_2000_labindex = TB_2000_index.rename(columns = {\"e_inc_100k\":\"e_inc_100k_2000\"})"
   ]
  },
  {
   "cell_type": "code",
   "execution_count": 329,
   "metadata": {},
   "outputs": [],
   "source": [
    "TB_data_2018 = TB_data[TB_data[\"year\"] == 2018]"
   ]
  },
  {
   "cell_type": "code",
   "execution_count": 330,
   "metadata": {},
   "outputs": [],
   "source": [
    "TB_2018_candinc =  TB_data_2018[[\"country\", \"e_inc_100k\"]]"
   ]
  },
  {
   "cell_type": "code",
   "execution_count": 331,
   "metadata": {},
   "outputs": [],
   "source": [
    "TB_2018_index = TB_2018_candinc.set_index(\"country\") "
   ]
  },
  {
   "cell_type": "code",
   "execution_count": 332,
   "metadata": {},
   "outputs": [],
   "source": [
    "TB_2018_labindex = TB_2018_index.rename(columns = {\"e_inc_100k\":\"e_inc_100k_2018\"})"
   ]
  },
  {
   "cell_type": "code",
   "execution_count": 333,
   "metadata": {},
   "outputs": [],
   "source": [
    "TB_2000_2018 = pd.concat([TB_2000_labindex, TB_2018_labindex], axis = 1, join=\"inner\")"
   ]
  },
  {
   "cell_type": "code",
   "execution_count": 367,
   "metadata": {},
   "outputs": [],
   "source": [
    "TB_greater_2018 = TB_2000_2018[TB_2000_2018[\"e_inc_100k_2018\"] > TB_2000_2018[\"e_inc_100k_2000\"]]"
   ]
  },
  {
   "cell_type": "code",
   "execution_count": 374,
   "metadata": {},
   "outputs": [
    {
     "name": "stdout",
     "output_type": "stream",
     "text": [
      "Index(['Angola', 'Australia', 'Bermuda', 'Congo', 'Cyprus', 'Dominica',\n",
      "       'El Salvador', 'Equatorial Guinea', 'Fiji', 'Gabon', 'Grenada', 'Guam',\n",
      "       'Guinea-Bissau', 'Guyana', 'Liberia', 'Malaysia', 'Malta',\n",
      "       'Marshall Islands', 'Micronesia (Federated States of)', 'Mozambique',\n",
      "       'Nauru', 'Niue', 'Palau', 'Panama', 'Paraguay', 'Republic of Korea',\n",
      "       'Republic of Moldova', 'Sao Tome and Principe', 'Suriname', 'Sweden',\n",
      "       'Tokelau', 'Trinidad and Tobago', 'Tunisia', 'Tuvalu', 'Uruguay',\n",
      "       'Venezuela (Bolivarian Republic of)'],\n",
      "      dtype='object', name='country')\n"
     ]
    }
   ],
   "source": [
    "print(TB_greater_2018.index)"
   ]
  },
  {
   "cell_type": "code",
   "execution_count": 375,
   "metadata": {},
   "outputs": [
    {
     "data": {
      "text/plain": [
       "36"
      ]
     },
     "execution_count": 375,
     "metadata": {},
     "output_type": "execute_result"
    }
   ],
   "source": [
    "len(TB_greater_2018.index)"
   ]
  },
  {
   "cell_type": "markdown",
   "metadata": {},
   "source": [
    "36 countries saw an increase in the number of cases per 100k in 2018 compared to 2000.  Lets see what regions these countries are found in.  We can do this by creating a bar chart with the value counts for each of the regions. "
   ]
  },
  {
   "cell_type": "code",
   "execution_count": 355,
   "metadata": {},
   "outputs": [
    {
     "data": {
      "text/plain": [
       "<matplotlib.axes._subplots.AxesSubplot at 0x28754aa9888>"
      ]
     },
     "execution_count": 355,
     "metadata": {},
     "output_type": "execute_result"
    },
    {
     "data": {
      "image/png": "[encoded data removed]",
      "text/plain": [
       "<Figure size 432x288 with 1 Axes>"
      ]
     },
     "metadata": {
      "needs_background": "light"
     },
     "output_type": "display_data"
    }
   ],
   "source": [
    "TB_greater_2018['g_whoregion'].value_counts().plot(kind='barh')"
   ]
  },
  {
   "cell_type": "markdown",
   "metadata": {},
   "source": [
    "The Western Pacific Region has the most countries with an increase in the number of cases since 2000, while the Eastern Mediterranean has seen the least.  Interestingly, no countries in South East Asia have seen an increase in cases. "
   ]
  },
  {
   "cell_type": "code",
   "execution_count": 390,
   "metadata": {},
   "outputs": [],
   "source": [
    "TB_2000_2018[\"TB_incidence_change\"] = TB_2000_2018[\"e_inc_100k_2018\"] - TB_2000_2018[\"e_inc_100k_2000\"]"
   ]
  },
  {
   "cell_type": "code",
   "execution_count": 391,
   "metadata": {},
   "outputs": [],
   "source": [
    "TB_greater_2018 = TB_2000_2018[TB_2000_2018[\"TB_incidence_change\"] >= 0]"
   ]
  },
  {
   "cell_type": "code",
   "execution_count": 392,
   "metadata": {},
   "outputs": [],
   "source": [
    "#TB_greater_2018.reset_index()"
   ]
  },
  {
   "cell_type": "code",
   "execution_count": 393,
   "metadata": {},
   "outputs": [],
   "source": [
    "#TB_increase_changeindex = TB_greater_2018.set_index(\"TB_incidence_change\")"
   ]
  },
  {
   "cell_type": "code",
   "execution_count": 394,
   "metadata": {},
   "outputs": [],
   "source": [
    "#TB_increase_changeindex.sort_index()"
   ]
  },
  {
   "cell_type": "markdown",
   "metadata": {},
   "source": [
    "Task 5: Create a heatmap with rankings of indicators of TB burden by country for 2018. So far,  we have looked at the general trends in TB incidence over time for different geographic regions.  But, our data set contains a lot more variables we have not yet explored.  What if we wanted to use some of the different variables found in this data set as indicators of a countries general outlook when it comes to tuberculosis as a public health problem.  To visualize these indicators, lets create a heatmap.  In this heatmap, countries will be ranked according to several indicators.  A color code will then be employed to indicate where a given country sits in the overall ranking. Lets look at the data for 2018, since that is our most recent year. "
   ]
  },
  {
   "cell_type": "code",
   "execution_count": 377,
   "metadata": {},
   "outputs": [],
   "source": [
    "TB_data_2018_HM = TB_data[TB_data[\"year\"]==2018]"
   ]
  },
  {
   "cell_type": "markdown",
   "metadata": {},
   "source": [
    "Our dataset contains alot of variables, many of which tell us very similar information.  Lets remove some of these variables so that the heatmap isn't too overwhelming.  High and low bound estimates will be removed so that only actual estimates will be ranked in the heatmap.  Also, lets only include estimates per 100k rather than for the whole population.  This will make sure we are taking into account that larger populations will likely have larger numbers of TB cases. "
   ]
  },
  {
   "cell_type": "code",
   "execution_count": 378,
   "metadata": {},
   "outputs": [],
   "source": [
    "clean_2018 = TB_data_2018_HM.drop([\"iso2\",\"iso3\", \"e_inc_tbhiv_num_hi\", \"iso_numeric\", \"g_whoregion\", \"year\", \"e_pop_num\", \"e_inc_100k_lo\", \"e_tbhiv_prct\", \"e_inc_100k_hi\", \"e_inc_num_hi\", \"e_inc_num_lo\", \"e_pop_num\", \"e_tbhiv_prct_lo\", \"e_tbhiv_prct_hi\", \"e_inc_tbhiv_100k_lo\", \"e_inc_tbhiv_100k_hi\", \"cfr_lo\", \"cfr_hi\", \"e_inc_tbhiv_num_lo\", \"e_mort_num_lo\", \"cfr_pct_hi\", \"e_mort_num_hi\", \"cfr_pct_lo\", \"c_cdr_lo\", \"c_cdr_hi\", \"e_mort_100k_hi\", \"e_mort_100k_lo\", \"e_mort_tbhiv_num_hi\", \"e_mort_tbhiv_num_lo\", \"e_mort_exc_tbhiv_100k_hi\", \"e_mort_exc_tbhiv_100k_lo\", \"e_mort_tbhiv_100k_lo\", \"e_mort_tbhiv_100k_hi\", \"e_mort_tbhiv_100k_lo\", \"e_mort_exc_tbhiv_num_hi\", \"e_mort_exc_tbhiv_100k_lo\", \"e_mort_exc_tbhiv_num_lo\",\"e_mort_exc_tbhiv_100k_hi\", \"e_mort_exc_tbhiv_num\", \"e_mort_exc_tbhiv_num\", \"e_mort_num\", \"e_mort_tbhiv_num\", \"e_inc_tbhiv_num\", \"e_inc_num\", \"e_mort_tbhiv_num\", \"cfr\"], axis=1)"
   ]
  },
  {
   "cell_type": "code",
   "execution_count": 379,
   "metadata": {},
   "outputs": [],
   "source": [
    "clean_2018 = clean_2018.set_index(\"country\")"
   ]
  },
  {
   "cell_type": "markdown",
   "metadata": {},
   "source": [
    "Now we have a dataframe several indicators of the severity of TB as a public health problem for different countries.  Lets now rank these countries from 1 to 216 based on their performance with rank 1 being the country performing best on a given indicator.  The indicators will be as follows: Incidence per 100k, Incidence of HIV positive cases per 100k, Mortality of HIV negative cases per 100K, Mortality of HIV positive cases per 100k, Total mortality per 100k, Case fatality ratio, New incident cases per 100k, and Case detection rate."
   ]
  },
  {
   "cell_type": "code",
   "execution_count": 380,
   "metadata": {},
   "outputs": [],
   "source": [
    "clean_2018[\"Incidence per 100k\"] = clean_2018[\"e_inc_100k\"].rank(method=\"max\")"
   ]
  },
  {
   "cell_type": "code",
   "execution_count": 381,
   "metadata": {},
   "outputs": [],
   "source": [
    "clean_2018[\"Incidence of HIV positive cases per 100k\"] = clean_2018[\"e_inc_tbhiv_100k\"].rank(method=\"max\")"
   ]
  },
  {
   "cell_type": "code",
   "execution_count": 382,
   "metadata": {},
   "outputs": [],
   "source": [
    "clean_2018[\"Mortality of HIV negative cases per 100K\"] = clean_2018[\"e_mort_exc_tbhiv_100k\"].rank(method=\"max\")"
   ]
  },
  {
   "cell_type": "code",
   "execution_count": 383,
   "metadata": {},
   "outputs": [],
   "source": [
    "clean_2018[\"Mortality of HIV positive cases per 100k\"] = clean_2018[\"e_mort_tbhiv_100k\"].rank(method=\"max\")"
   ]
  },
  {
   "cell_type": "code",
   "execution_count": 384,
   "metadata": {},
   "outputs": [],
   "source": [
    "clean_2018[\"Total mortality per 100k\"] = clean_2018[\"e_mort_100k\"].rank(method=\"max\")"
   ]
  },
  {
   "cell_type": "code",
   "execution_count": 385,
   "metadata": {},
   "outputs": [],
   "source": [
    "clean_2018[\"Case fatality ratio\"] = clean_2018[\"cfr_pct\"].rank(method=\"max\")"
   ]
  },
  {
   "cell_type": "code",
   "execution_count": 386,
   "metadata": {},
   "outputs": [],
   "source": [
    "clean_2018[\"New incident cases per 100k\"] = clean_2018[\"c_newinc_100k\"].rank(method=\"max\")"
   ]
  },
  {
   "cell_type": "code",
   "execution_count": 387,
   "metadata": {},
   "outputs": [],
   "source": [
    "clean_2018[\"Case detection rate\"] = clean_2018[\"c_cdr\"].rank(method=\"max\", ascending=False)"
   ]
  },
  {
   "cell_type": "code",
   "execution_count": 388,
   "metadata": {},
   "outputs": [],
   "source": [
    "rankings_2018 = clean_2018[[\"Incidence per 100k\", \"Incidence of HIV positive cases per 100k\", \"Mortality of HIV negative cases per 100K\", \"Mortality of HIV positive cases per 100k\", \"Total mortality per 100k\", \"Case fatality ratio\", \"New incident cases per 100k\", \"Case detection rate\"]]"
   ]
  },
  {
   "cell_type": "markdown",
   "metadata": {},
   "source": [
    "Now that we have our countries ranked by indicator.  Lets create a heatmap to visualize our data.  On this heat map, dark blue will indicate a high ranking or positive outcomes while dark red will indicate a low ranking or negative outcome."
   ]
  },
  {
   "cell_type": "code",
   "execution_count": 389,
   "metadata": {},
   "outputs": [
    {
     "data": {
      "image/png": "[encoded data removed]",
      "text/plain": [
       "<Figure size 864x3240 with 2 Axes>"
      ]
     },
     "metadata": {
      "needs_background": "light"
     },
     "output_type": "display_data"
    }
   ],
   "source": [
    "#import numpy as np; np.random.seed(0)\n",
    "#import seaborn as sns; sns.set()\n",
    "fig_dims=(12,45)\n",
    "fig, ax = plt.subplots(figsize=fig_dims)\n",
    "ax = sns.heatmap(rankings_2018, vmin=1, vmax=216, linewidth=.2, cbar_kws = dict(use_gridspec=False,location=\"top\"), cmap=\"coolwarm\")\n",
    "# split axes of heatmap to put colorbar\n",
    "#ax_divider = make_axes_locatable(ax)\n",
    "# define size and padding of axes for colorbar\n",
    "#cax = ax_divider.append_axes('top', size = '5%', pad = '2%')\n",
    "# make colorbar for heatmap. \n",
    "# Heatmap returns an axes obj but you need to get a mappable obj (get_children)\n",
    "#colorbar(ax.get_children()[0], cax = cax, orientation = 'horizontal')\n",
    "# locate colorbar ticks\n",
    "#cax.xaxis.set_ticks_position('top')\n",
    "ax.set_title(\"Heatmap of Country Data\")\n",
    "plt.show()"
   ]
  },
  {
   "cell_type": "markdown",
   "metadata": {},
   "source": [
    "Conclusions:"
   ]
  }
 ],
 "metadata": {
  "kernelspec": {
   "display_name": "Python 3",
   "language": "python",
   "name": "python3"
  },
  "language_info": {
   "codemirror_mode": {
    "name": "ipython",
    "version": 3
   },
   "file_extension": ".py",
   "mimetype": "text/x-python",
   "name": "python",
   "nbconvert_exporter": "python",
   "pygments_lexer": "ipython3",
   "version": "3.7.4"
  }
 },
 "nbformat": 4,
 "nbformat_minor": 2
}
