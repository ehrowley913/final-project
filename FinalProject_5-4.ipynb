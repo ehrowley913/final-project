{
 "cells": [
  {
   "cell_type": "code",
   "execution_count": 5,
   "metadata": {},
   "outputs": [],
   "source": [
    "import numpy as np"
   ]
  },
  {
   "cell_type": "code",
   "execution_count": 6,
   "metadata": {},
   "outputs": [],
   "source": [
    "import pandas as pd"
   ]
  },
  {
   "cell_type": "code",
   "execution_count": 7,
   "metadata": {},
   "outputs": [],
   "source": [
    "import matplotlib.pyplot as plt"
   ]
  },
  {
   "cell_type": "code",
   "execution_count": 8,
   "metadata": {},
   "outputs": [],
   "source": [
    "TB_data = pd.read_csv(\"TB_burden.csv\")"
   ]
  },
  {
   "cell_type": "code",
   "execution_count": 9,
   "metadata": {},
   "outputs": [
    {
     "data": {
      "text/html": [
       "<div>\n",
       "<style scoped>\n",
       "    .dataframe tbody tr th:only-of-type {\n",
       "        vertical-align: middle;\n",
       "    }\n",
       "\n",
       "    .dataframe tbody tr th {\n",
       "        vertical-align: top;\n",
       "    }\n",
       "\n",
       "    .dataframe thead th {\n",
       "        text-align: right;\n",
       "    }\n",
       "</style>\n",
       "<table border=\"1\" class=\"dataframe\">\n",
       "  <thead>\n",
       "    <tr style=\"text-align: right;\">\n",
       "      <th></th>\n",
       "      <th>country</th>\n",
       "      <th>iso2</th>\n",
       "      <th>iso3</th>\n",
       "      <th>iso_numeric</th>\n",
       "      <th>g_whoregion</th>\n",
       "      <th>year</th>\n",
       "      <th>e_pop_num</th>\n",
       "      <th>e_inc_100k</th>\n",
       "      <th>e_inc_100k_lo</th>\n",
       "      <th>e_inc_100k_hi</th>\n",
       "      <th>...</th>\n",
       "      <th>cfr</th>\n",
       "      <th>cfr_lo</th>\n",
       "      <th>cfr_hi</th>\n",
       "      <th>cfr_pct</th>\n",
       "      <th>cfr_pct_lo</th>\n",
       "      <th>cfr_pct_hi</th>\n",
       "      <th>c_newinc_100k</th>\n",
       "      <th>c_cdr</th>\n",
       "      <th>c_cdr_lo</th>\n",
       "      <th>c_cdr_hi</th>\n",
       "    </tr>\n",
       "  </thead>\n",
       "  <tbody>\n",
       "    <tr>\n",
       "      <td>0</td>\n",
       "      <td>Afghanistan</td>\n",
       "      <td>AF</td>\n",
       "      <td>AFG</td>\n",
       "      <td>4</td>\n",
       "      <td>EMR</td>\n",
       "      <td>2000</td>\n",
       "      <td>20779953</td>\n",
       "      <td>190.0</td>\n",
       "      <td>123.0</td>\n",
       "      <td>271.0</td>\n",
       "      <td>...</td>\n",
       "      <td>NaN</td>\n",
       "      <td>NaN</td>\n",
       "      <td>NaN</td>\n",
       "      <td>NaN</td>\n",
       "      <td>NaN</td>\n",
       "      <td>NaN</td>\n",
       "      <td>34.0</td>\n",
       "      <td>18.0</td>\n",
       "      <td>13.0</td>\n",
       "      <td>28.0</td>\n",
       "    </tr>\n",
       "    <tr>\n",
       "      <td>1</td>\n",
       "      <td>Afghanistan</td>\n",
       "      <td>AF</td>\n",
       "      <td>AFG</td>\n",
       "      <td>4</td>\n",
       "      <td>EMR</td>\n",
       "      <td>2001</td>\n",
       "      <td>21606988</td>\n",
       "      <td>189.0</td>\n",
       "      <td>123.0</td>\n",
       "      <td>271.0</td>\n",
       "      <td>...</td>\n",
       "      <td>NaN</td>\n",
       "      <td>NaN</td>\n",
       "      <td>NaN</td>\n",
       "      <td>NaN</td>\n",
       "      <td>NaN</td>\n",
       "      <td>NaN</td>\n",
       "      <td>47.0</td>\n",
       "      <td>25.0</td>\n",
       "      <td>17.0</td>\n",
       "      <td>38.0</td>\n",
       "    </tr>\n",
       "    <tr>\n",
       "      <td>2</td>\n",
       "      <td>Afghanistan</td>\n",
       "      <td>AF</td>\n",
       "      <td>AFG</td>\n",
       "      <td>4</td>\n",
       "      <td>EMR</td>\n",
       "      <td>2002</td>\n",
       "      <td>22600770</td>\n",
       "      <td>189.0</td>\n",
       "      <td>122.0</td>\n",
       "      <td>270.0</td>\n",
       "      <td>...</td>\n",
       "      <td>NaN</td>\n",
       "      <td>NaN</td>\n",
       "      <td>NaN</td>\n",
       "      <td>NaN</td>\n",
       "      <td>NaN</td>\n",
       "      <td>NaN</td>\n",
       "      <td>61.0</td>\n",
       "      <td>32.0</td>\n",
       "      <td>23.0</td>\n",
       "      <td>50.0</td>\n",
       "    </tr>\n",
       "    <tr>\n",
       "      <td>3</td>\n",
       "      <td>Afghanistan</td>\n",
       "      <td>AF</td>\n",
       "      <td>AFG</td>\n",
       "      <td>4</td>\n",
       "      <td>EMR</td>\n",
       "      <td>2003</td>\n",
       "      <td>23680871</td>\n",
       "      <td>189.0</td>\n",
       "      <td>122.0</td>\n",
       "      <td>270.0</td>\n",
       "      <td>...</td>\n",
       "      <td>NaN</td>\n",
       "      <td>NaN</td>\n",
       "      <td>NaN</td>\n",
       "      <td>NaN</td>\n",
       "      <td>NaN</td>\n",
       "      <td>NaN</td>\n",
       "      <td>58.0</td>\n",
       "      <td>31.0</td>\n",
       "      <td>22.0</td>\n",
       "      <td>48.0</td>\n",
       "    </tr>\n",
       "    <tr>\n",
       "      <td>4</td>\n",
       "      <td>Afghanistan</td>\n",
       "      <td>AF</td>\n",
       "      <td>AFG</td>\n",
       "      <td>4</td>\n",
       "      <td>EMR</td>\n",
       "      <td>2004</td>\n",
       "      <td>24726684</td>\n",
       "      <td>189.0</td>\n",
       "      <td>122.0</td>\n",
       "      <td>270.0</td>\n",
       "      <td>...</td>\n",
       "      <td>NaN</td>\n",
       "      <td>NaN</td>\n",
       "      <td>NaN</td>\n",
       "      <td>NaN</td>\n",
       "      <td>NaN</td>\n",
       "      <td>NaN</td>\n",
       "      <td>74.0</td>\n",
       "      <td>39.0</td>\n",
       "      <td>28.0</td>\n",
       "      <td>61.0</td>\n",
       "    </tr>\n",
       "  </tbody>\n",
       "</table>\n",
       "<p>5 rows × 50 columns</p>\n",
       "</div>"
      ],
      "text/plain": [
       "       country iso2 iso3  iso_numeric g_whoregion  year  e_pop_num  \\\n",
       "0  Afghanistan   AF  AFG            4         EMR  2000   20779953   \n",
       "1  Afghanistan   AF  AFG            4         EMR  2001   21606988   \n",
       "2  Afghanistan   AF  AFG            4         EMR  2002   22600770   \n",
       "3  Afghanistan   AF  AFG            4         EMR  2003   23680871   \n",
       "4  Afghanistan   AF  AFG            4         EMR  2004   24726684   \n",
       "\n",
       "   e_inc_100k  e_inc_100k_lo  e_inc_100k_hi  ...  cfr  cfr_lo  cfr_hi  \\\n",
       "0       190.0          123.0          271.0  ...  NaN     NaN     NaN   \n",
       "1       189.0          123.0          271.0  ...  NaN     NaN     NaN   \n",
       "2       189.0          122.0          270.0  ...  NaN     NaN     NaN   \n",
       "3       189.0          122.0          270.0  ...  NaN     NaN     NaN   \n",
       "4       189.0          122.0          270.0  ...  NaN     NaN     NaN   \n",
       "\n",
       "   cfr_pct  cfr_pct_lo  cfr_pct_hi  c_newinc_100k  c_cdr  c_cdr_lo  c_cdr_hi  \n",
       "0      NaN         NaN         NaN           34.0   18.0      13.0      28.0  \n",
       "1      NaN         NaN         NaN           47.0   25.0      17.0      38.0  \n",
       "2      NaN         NaN         NaN           61.0   32.0      23.0      50.0  \n",
       "3      NaN         NaN         NaN           58.0   31.0      22.0      48.0  \n",
       "4      NaN         NaN         NaN           74.0   39.0      28.0      61.0  \n",
       "\n",
       "[5 rows x 50 columns]"
      ]
     },
     "execution_count": 9,
     "metadata": {},
     "output_type": "execute_result"
    }
   ],
   "source": [
    "TB_data.head()"
   ]
  },
  {
   "cell_type": "code",
   "execution_count": 10,
   "metadata": {},
   "outputs": [
    {
     "data": {
      "text/plain": [
       "(4040, 50)"
      ]
     },
     "execution_count": 10,
     "metadata": {},
     "output_type": "execute_result"
    }
   ],
   "source": [
    "TB_data.shape"
   ]
  },
  {
   "cell_type": "code",
   "execution_count": 11,
   "metadata": {},
   "outputs": [],
   "source": [
    "missing_obs = TB_data.isna().sum()"
   ]
  },
  {
   "cell_type": "code",
   "execution_count": 12,
   "metadata": {},
   "outputs": [],
   "source": [
    "missing_proportion = missing_obs / 4040"
   ]
  },
  {
   "cell_type": "code",
   "execution_count": 13,
   "metadata": {},
   "outputs": [
    {
     "name": "stdout",
     "output_type": "stream",
     "text": [
      "country                     0.000000\n",
      "iso2                        0.004703\n",
      "iso3                        0.000000\n",
      "iso_numeric                 0.000000\n",
      "g_whoregion                 0.000000\n",
      "year                        0.000000\n",
      "e_pop_num                   0.000000\n",
      "e_inc_100k                  0.000000\n",
      "e_inc_100k_lo               0.000000\n",
      "e_inc_100k_hi               0.000000\n",
      "e_inc_num                   0.000000\n",
      "e_inc_num_lo                0.000000\n",
      "e_inc_num_hi                0.000000\n",
      "e_tbhiv_prct                0.151733\n",
      "e_tbhiv_prct_lo             0.151733\n",
      "e_tbhiv_prct_hi             0.151733\n",
      "e_inc_tbhiv_100k            0.151733\n",
      "e_inc_tbhiv_100k_lo         0.151733\n",
      "e_inc_tbhiv_100k_hi         0.151733\n",
      "e_inc_tbhiv_num             0.151733\n",
      "e_inc_tbhiv_num_lo          0.151733\n",
      "e_inc_tbhiv_num_hi          0.151733\n",
      "e_mort_exc_tbhiv_100k       0.000000\n",
      "e_mort_exc_tbhiv_100k_lo    0.000000\n",
      "e_mort_exc_tbhiv_100k_hi    0.000000\n",
      "e_mort_exc_tbhiv_num        0.000000\n",
      "e_mort_exc_tbhiv_num_lo     0.000000\n",
      "e_mort_exc_tbhiv_num_hi     0.000000\n",
      "e_mort_tbhiv_100k           0.000000\n",
      "e_mort_tbhiv_100k_lo        0.000000\n",
      "e_mort_tbhiv_100k_hi        0.000000\n",
      "e_mort_tbhiv_num            0.000000\n",
      "e_mort_tbhiv_num_lo         0.000000\n",
      "e_mort_tbhiv_num_hi         0.000000\n",
      "e_mort_100k                 0.000000\n",
      "e_mort_100k_lo              0.000000\n",
      "e_mort_100k_hi              0.000000\n",
      "e_mort_num                  0.000000\n",
      "e_mort_num_lo               0.000000\n",
      "e_mort_num_hi               0.000000\n",
      "cfr                         0.948515\n",
      "cfr_lo                      0.948515\n",
      "cfr_hi                      0.948515\n",
      "cfr_pct                     0.948515\n",
      "cfr_pct_lo                  0.948515\n",
      "cfr_pct_hi                  0.948515\n",
      "c_newinc_100k               0.038119\n",
      "c_cdr                       0.061881\n",
      "c_cdr_lo                    0.061881\n",
      "c_cdr_hi                    0.061881\n",
      "dtype: float64\n"
     ]
    }
   ],
   "source": [
    "print(missing_proportion)"
   ]
  },
  {
   "cell_type": "code",
   "execution_count": 14,
   "metadata": {},
   "outputs": [
    {
     "name": "stdout",
     "output_type": "stream",
     "text": [
      "0       EMR\n",
      "1       EMR\n",
      "2       EMR\n",
      "3       EMR\n",
      "4       EMR\n",
      "       ... \n",
      "4035    AFR\n",
      "4036    AFR\n",
      "4037    AFR\n",
      "4038    AFR\n",
      "4039    AFR\n",
      "Name: g_whoregion, Length: 4040, dtype: object\n"
     ]
    }
   ],
   "source": [
    "print(TB_data[\"g_whoregion\"])"
   ]
  },
  {
   "cell_type": "code",
   "execution_count": 15,
   "metadata": {},
   "outputs": [
    {
     "data": {
      "text/plain": [
       "EUR    1016\n",
       "AFR     882\n",
       "AMR     844\n",
       "WPR     684\n",
       "EMR     407\n",
       "SEA     207\n",
       "Name: g_whoregion, dtype: int64"
      ]
     },
     "execution_count": 15,
     "metadata": {},
     "output_type": "execute_result"
    }
   ],
   "source": [
    "TB_data[\"g_whoregion\"].value_counts()"
   ]
  },
  {
   "cell_type": "code",
   "execution_count": 16,
   "metadata": {},
   "outputs": [],
   "source": [
    "#WHO region codes at -> https://apps.who.int/gho/data/node.metadata.REGION?lang=en"
   ]
  },
  {
   "cell_type": "code",
   "execution_count": 17,
   "metadata": {},
   "outputs": [],
   "source": [
    "geo_regions = [\"EUR\", \"AFR\", \"AMR\", \"WPR\", \"EMR\", \"SEA\"]"
   ]
  },
  {
   "cell_type": "code",
   "execution_count": 18,
   "metadata": {},
   "outputs": [
    {
     "data": {
      "text/plain": [
       "2017    216\n",
       "2015    216\n",
       "2012    216\n",
       "2014    216\n",
       "2016    216\n",
       "2018    216\n",
       "2011    216\n",
       "2013    216\n",
       "2010    214\n",
       "2005    211\n",
       "2007    211\n",
       "2009    211\n",
       "2008    211\n",
       "2006    211\n",
       "2003    209\n",
       "2004    209\n",
       "2002    209\n",
       "2001    208\n",
       "2000    208\n",
       "Name: year, dtype: int64"
      ]
     },
     "execution_count": 18,
     "metadata": {},
     "output_type": "execute_result"
    }
   ],
   "source": [
    "TB_data[\"year\"].value_counts()"
   ]
  },
  {
   "cell_type": "code",
   "execution_count": 19,
   "metadata": {},
   "outputs": [],
   "source": [
    "TB_data_2013 = TB_data[TB_data[\"year\"] == 2013]"
   ]
  },
  {
   "cell_type": "code",
   "execution_count": 20,
   "metadata": {
    "scrolled": true
   },
   "outputs": [
    {
     "name": "stdout",
     "output_type": "stream",
     "text": [
      "                        country iso2 iso3  iso_numeric g_whoregion  year  \\\n",
      "13                  Afghanistan   AF  AFG            4         EMR  2013   \n",
      "32                      Albania   AL  ALB            8         EUR  2013   \n",
      "51                      Algeria   DZ  DZA           12         AFR  2013   \n",
      "70               American Samoa   AS  ASM           16         WPR  2013   \n",
      "89                      Andorra   AD  AND           20         EUR  2013   \n",
      "...                         ...  ...  ...          ...         ...   ...   \n",
      "3958  Wallis and Futuna Islands   WF  WLF          876         WPR  2013   \n",
      "3977   West Bank and Gaza Strip   PS  PSE          275         EMR  2013   \n",
      "3996                      Yemen   YE  YEM          887         EMR  2013   \n",
      "4015                     Zambia   ZM  ZMB          894         AFR  2013   \n",
      "4034                   Zimbabwe   ZW  ZWE          716         AFR  2013   \n",
      "\n",
      "      e_pop_num  e_inc_100k  e_inc_100k_lo  e_inc_100k_hi  ...  cfr  cfr_lo  \\\n",
      "13     32269589       189.0         122.00          270.0  ...  NaN     NaN   \n",
      "32      2903790        19.0          16.00           22.0  ...  NaN     NaN   \n",
      "51     38140133        68.0          52.00           86.0  ...  NaN     NaN   \n",
      "70        55713         6.9           5.90            8.0  ...  NaN     NaN   \n",
      "89        80774         7.1           6.10            8.2  ...  NaN     NaN   \n",
      "...         ...         ...            ...            ...  ...  ...     ...   \n",
      "3958      12356        19.0          16.00           22.0  ...  NaN     NaN   \n",
      "3977    4333523         1.1           0.83            1.4  ...  NaN     NaN   \n",
      "3996   25147109        48.0          42.00           54.0  ...  NaN     NaN   \n",
      "4015   14926544       437.0         283.00          625.0  ...  NaN     NaN   \n",
      "4034   13350373       304.0         228.00          391.0  ...  NaN     NaN   \n",
      "\n",
      "      cfr_hi  cfr_pct  cfr_pct_lo  cfr_pct_hi  c_newinc_100k  c_cdr  c_cdr_lo  \\\n",
      "13       NaN      NaN         NaN         NaN           95.0   50.0      35.0   \n",
      "32       NaN      NaN         NaN         NaN           16.0   87.0      75.0   \n",
      "51       NaN      NaN         NaN         NaN           54.0   80.0      63.0   \n",
      "70       NaN      NaN         NaN         NaN            NaN    NaN       NaN   \n",
      "89       NaN      NaN         NaN         NaN            6.2   87.0      75.0   \n",
      "...      ...      ...         ...         ...            ...    ...       ...   \n",
      "3958     NaN      NaN         NaN         NaN           16.0   87.0      75.0   \n",
      "3977     NaN      NaN         NaN         NaN            NaN    NaN       NaN   \n",
      "3996     NaN      NaN         NaN         NaN           41.0   86.0      76.0   \n",
      "4015     NaN      NaN         NaN         NaN          272.0   62.0      44.0   \n",
      "4034     NaN      NaN         NaN         NaN          246.0   81.0      63.0   \n",
      "\n",
      "      c_cdr_hi  \n",
      "13        77.0  \n",
      "32       100.0  \n",
      "51       100.0  \n",
      "70         NaN  \n",
      "89       100.0  \n",
      "...        ...  \n",
      "3958     100.0  \n",
      "3977       NaN  \n",
      "3996      97.0  \n",
      "4015      96.0  \n",
      "4034     110.0  \n",
      "\n",
      "[216 rows x 50 columns]\n"
     ]
    }
   ],
   "source": [
    "print(TB_data_2013)"
   ]
  },
  {
   "cell_type": "code",
   "execution_count": 21,
   "metadata": {},
   "outputs": [
    {
     "data": {
      "text/plain": [
       "15364.89"
      ]
     },
     "execution_count": 21,
     "metadata": {},
     "output_type": "execute_result"
    }
   ],
   "source": [
    "TB_data_2013[\"c_newinc_100k\"].sum()"
   ]
  },
  {
   "cell_type": "code",
   "execution_count": 22,
   "metadata": {},
   "outputs": [
    {
     "data": {
      "text/plain": [
       "pandas.core.frame.DataFrame"
      ]
     },
     "execution_count": 22,
     "metadata": {},
     "output_type": "execute_result"
    }
   ],
   "source": [
    "type(TB_data_2013) "
   ]
  },
  {
   "cell_type": "code",
   "execution_count": 23,
   "metadata": {},
   "outputs": [],
   "source": [
    "def data_by_year(x, y):\n",
    "    TB_data_year = TB_data[TB_data[\"year\"]==x]\n",
    "    return (TB_data_year[str(y)].sum())"
   ]
  },
  {
   "cell_type": "code",
   "execution_count": 24,
   "metadata": {},
   "outputs": [
    {
     "data": {
      "text/plain": [
       "15364.89"
      ]
     },
     "execution_count": 24,
     "metadata": {},
     "output_type": "execute_result"
    }
   ],
   "source": [
    "data_by_year(2013, \"c_newinc_100k\")"
   ]
  },
  {
   "cell_type": "code",
   "execution_count": 25,
   "metadata": {},
   "outputs": [],
   "source": [
    "list_of_years = (TB_data.drop_duplicates(\"year\")[\"year\"]).tolist()"
   ]
  },
  {
   "cell_type": "code",
   "execution_count": 26,
   "metadata": {},
   "outputs": [
    {
     "name": "stdout",
     "output_type": "stream",
     "text": [
      "[2000, 2001, 2002, 2003, 2004, 2005, 2006, 2007, 2008, 2009, 2010, 2011, 2012, 2013, 2014, 2015, 2016, 2017, 2018]\n"
     ]
    }
   ],
   "source": [
    "print(list_of_years)"
   ]
  },
  {
   "cell_type": "code",
   "execution_count": 27,
   "metadata": {},
   "outputs": [
    {
     "data": {
      "text/plain": [
       "list"
      ]
     },
     "execution_count": 27,
     "metadata": {},
     "output_type": "execute_result"
    }
   ],
   "source": [
    "type(list_of_years)"
   ]
  },
  {
   "cell_type": "code",
   "execution_count": 28,
   "metadata": {},
   "outputs": [],
   "source": [
    "e_inc_num_by_year = []\n",
    "for x in list_of_years:\n",
    "    def data_by_year(x):\n",
    "        TB_data_year = TB_data[TB_data[\"year\"]==x]\n",
    "        return TB_data_year[\"e_inc_num\"].sum()\n",
    "    e_inc_num_by_year.append(data_by_year(x))"
   ]
  },
  {
   "cell_type": "code",
   "execution_count": 29,
   "metadata": {},
   "outputs": [
    {
     "name": "stdout",
     "output_type": "stream",
     "text": [
      "[10476586, 10613505, 10726918, 10853891, 10903605, 10956014, 10947674, 10913152, 10871479, 10844984, 10725368, 10725448, 10659321, 10529059, 10445574, 10336468, 10195131, 10106416, 10018345]\n"
     ]
    }
   ],
   "source": [
    "print(e_inc_num_by_year)"
   ]
  },
  {
   "cell_type": "code",
   "execution_count": 30,
   "metadata": {
    "scrolled": true
   },
   "outputs": [
    {
     "data": {
      "image/png": "[encoded data removed]",
      "text/plain": [
       "<Figure size 432x288 with 1 Axes>"
      ]
     },
     "metadata": {
      "needs_background": "light"
     },
     "output_type": "display_data"
    }
   ],
   "source": [
    "import matplotlib.pyplot as plt\n",
    "fig, ax = plt.subplots()\n",
    "ax.plot(list_of_years, e_inc_num_by_year, \"bo\", linestyle=\"solid\")\n",
    "ax.set_xlabel(\"Year\")\n",
    "ax.set_ylabel(\"Estimated number of Incident Cases\")\n",
    "ax.set_xticks([2000, 2002, 2004, 2006, 2008, 2010, 2012, 2014, 2016, 2018])\n",
    "#FIGURE OUT Y TICKS!!!\n",
    "plt.show()"
   ]
  },
  {
   "cell_type": "code",
   "execution_count": 31,
   "metadata": {},
   "outputs": [],
   "source": [
    "TB_data_EMR = TB_data[TB_data[\"g_whoregion\"] == \"EMR\"]"
   ]
  },
  {
   "cell_type": "code",
   "execution_count": 32,
   "metadata": {},
   "outputs": [],
   "source": [
    "e_inc_num_by_EMRyear = []\n",
    "for x in list_of_years:\n",
    "    def data_by_year(x):\n",
    "        TB_data_EMRyear = TB_data_EMR[TB_data_EMR[\"year\"]==x]\n",
    "        return TB_data_EMRyear[\"e_inc_num\"].sum()\n",
    "    e_inc_num_by_EMRyear.append(data_by_year(x))"
   ]
  },
  {
   "cell_type": "code",
   "execution_count": 33,
   "metadata": {},
   "outputs": [],
   "source": [
    "TB_data_AFR = TB_data[TB_data[\"g_whoregion\"] == \"AFR\"]"
   ]
  },
  {
   "cell_type": "code",
   "execution_count": 34,
   "metadata": {},
   "outputs": [],
   "source": [
    "e_inc_num_by_AFRyear = []\n",
    "for x in list_of_years:\n",
    "    def data_by_year(x):\n",
    "        TB_data_AFRyear = TB_data_AFR[TB_data_AFR[\"year\"]==x]\n",
    "        return TB_data_AFRyear[\"e_inc_num\"].sum()\n",
    "    e_inc_num_by_AFRyear.append(data_by_year(x))"
   ]
  },
  {
   "cell_type": "code",
   "execution_count": 35,
   "metadata": {},
   "outputs": [],
   "source": [
    "TB_data_EUR = TB_data[TB_data[\"g_whoregion\"] == \"EUR\"]"
   ]
  },
  {
   "cell_type": "code",
   "execution_count": 36,
   "metadata": {},
   "outputs": [],
   "source": [
    "e_inc_num_by_EURyear = []\n",
    "for x in list_of_years:\n",
    "    def data_by_year(x):\n",
    "        TB_data_EURyear = TB_data_EUR[TB_data_EUR[\"year\"]==x]\n",
    "        return TB_data_EURyear[\"e_inc_num\"].sum()\n",
    "    e_inc_num_by_EURyear.append(data_by_year(x))"
   ]
  },
  {
   "cell_type": "code",
   "execution_count": 37,
   "metadata": {},
   "outputs": [],
   "source": [
    "TB_data_AMR = TB_data[TB_data[\"g_whoregion\"] == \"AMR\"]"
   ]
  },
  {
   "cell_type": "code",
   "execution_count": 38,
   "metadata": {},
   "outputs": [],
   "source": [
    "e_inc_num_by_AMRyear = []\n",
    "for x in list_of_years:\n",
    "    def data_by_year(x):\n",
    "        TB_data_AMRyear = TB_data_AMR[TB_data_AMR[\"year\"]==x]\n",
    "        return TB_data_AMRyear[\"e_inc_num\"].sum()\n",
    "    e_inc_num_by_AMRyear.append(data_by_year(x))"
   ]
  },
  {
   "cell_type": "code",
   "execution_count": 39,
   "metadata": {},
   "outputs": [],
   "source": [
    "TB_data_WPR = TB_data[TB_data[\"g_whoregion\"] == \"WPR\"]"
   ]
  },
  {
   "cell_type": "code",
   "execution_count": 40,
   "metadata": {},
   "outputs": [],
   "source": [
    "e_inc_num_by_WPRyear = []\n",
    "for x in list_of_years:\n",
    "    def data_by_year(x):\n",
    "        TB_data_WPRyear = TB_data_WPR[TB_data_WPR[\"year\"]==x]\n",
    "        return TB_data_WPRyear[\"e_inc_num\"].sum()\n",
    "    e_inc_num_by_WPRyear.append(data_by_year(x))"
   ]
  },
  {
   "cell_type": "code",
   "execution_count": 41,
   "metadata": {},
   "outputs": [],
   "source": [
    "TB_data_SEA = TB_data[TB_data[\"g_whoregion\"] == \"SEA\"]"
   ]
  },
  {
   "cell_type": "code",
   "execution_count": 42,
   "metadata": {},
   "outputs": [],
   "source": [
    "e_inc_num_by_SEAyear = []\n",
    "for x in list_of_years:\n",
    "    def data_by_year(x):\n",
    "        TB_data_SEAyear = TB_data_SEA[TB_data_SEA[\"year\"]==x]\n",
    "        return TB_data_SEAyear[\"e_inc_num\"].sum()\n",
    "    e_inc_num_by_SEAyear.append(data_by_year(x))"
   ]
  },
  {
   "cell_type": "code",
   "execution_count": 43,
   "metadata": {},
   "outputs": [
    {
     "data": {
      "image/png": "[encoded data removed]",
      "text/plain": [
       "<Figure size 432x288 with 1 Axes>"
      ]
     },
     "metadata": {
      "needs_background": "light"
     },
     "output_type": "display_data"
    }
   ],
   "source": [
    "import matplotlib.pyplot as plt\n",
    "fig, ax = plt.subplots()\n",
    "ax.plot(list_of_years, e_inc_num_by_EMRyear, \"bo\", linestyle=\"solid\")\n",
    "ax.plot(list_of_years, e_inc_num_by_AFRyear, \"ro\", linestyle=\"solid\")\n",
    "ax.plot(list_of_years, e_inc_num_by_EURyear, \"go\", linestyle=\"solid\")\n",
    "ax.plot(list_of_years, e_inc_num_by_AMRyear, \"mo\", linestyle=\"solid\")\n",
    "ax.plot(list_of_years, e_inc_num_by_WPRyear, \"co\", linestyle=\"solid\")\n",
    "ax.plot(list_of_years, e_inc_num_by_SEAyear, \"yo\", linestyle=\"solid\")\n",
    "ax.set_xlabel(\"Year\")\n",
    "ax.set_ylabel(\"\")\n",
    "ax.set_xticks([2000, 2002, 2004, 2006, 2008, 2010, 2012, 2014, 2016, 2018])\n",
    "#FIGURE OUT Y TICKS!!!\n",
    "plt.show()"
   ]
  },
  {
   "cell_type": "code",
   "execution_count": 119,
   "metadata": {},
   "outputs": [],
   "source": [
    "#What countries have had an increase in cases since 2000?"
   ]
  },
  {
   "cell_type": "code",
   "execution_count": 120,
   "metadata": {},
   "outputs": [],
   "source": [
    "TB_data_2000 = TB_data[TB_data[\"year\"] == 2000]"
   ]
  },
  {
   "cell_type": "code",
   "execution_count": 121,
   "metadata": {},
   "outputs": [],
   "source": [
    "TB_2000_candinc =  TB_data_2000[[\"country\", \"e_inc_num\"]]"
   ]
  },
  {
   "cell_type": "code",
   "execution_count": 122,
   "metadata": {},
   "outputs": [],
   "source": [
    "TB_2000_index = TB_2000_candinc.set_index(\"country\")"
   ]
  },
  {
   "cell_type": "code",
   "execution_count": 123,
   "metadata": {},
   "outputs": [],
   "source": [
    "TB_2000_labindex = TB_2000_index.rename(columns = {\"e_inc_num\":\"e_inc_num_2000\"})"
   ]
  },
  {
   "cell_type": "code",
   "execution_count": 124,
   "metadata": {},
   "outputs": [],
   "source": [
    "TB_data_2018 = TB_data[TB_data[\"year\"] == 2018]"
   ]
  },
  {
   "cell_type": "code",
   "execution_count": 125,
   "metadata": {},
   "outputs": [],
   "source": [
    "TB_2018_candinc =  TB_data_2018[[\"country\", \"e_inc_num\"]]"
   ]
  },
  {
   "cell_type": "code",
   "execution_count": 126,
   "metadata": {},
   "outputs": [],
   "source": [
    "TB_2018_index = TB_2018_candinc.set_index(\"country\") "
   ]
  },
  {
   "cell_type": "code",
   "execution_count": 127,
   "metadata": {},
   "outputs": [],
   "source": [
    "TB_2018_labindex = TB_2018_index.rename(columns = {\"e_inc_num\":\"e_inc_num_2018\"})"
   ]
  },
  {
   "cell_type": "code",
   "execution_count": 128,
   "metadata": {},
   "outputs": [],
   "source": [
    "TB_2000_2018 = pd.concat([TB_2000_labindex, TB_2018_labindex], axis = 1, join=\"inner\")"
   ]
  },
  {
   "cell_type": "code",
   "execution_count": 129,
   "metadata": {},
   "outputs": [],
   "source": [
    "TB_greater_2018 = TB_2000_2018[TB_2000_2018[\"e_inc_num_2018\"] > TB_2000_2018[\"e_inc_num_2000\"]]"
   ]
  },
  {
   "cell_type": "code",
   "execution_count": 130,
   "metadata": {},
   "outputs": [
    {
     "name": "stdout",
     "output_type": "stream",
     "text": [
      "                                    e_inc_num_2000  e_inc_num_2018\n",
      "country                                                           \n",
      "Afghanistan                                  39000           70000\n",
      "Algeria                                      23000           29000\n",
      "Angola                                       49000          109000\n",
      "Antigua and Barbuda                              5               6\n",
      "Australia                                     1200            1700\n",
      "...                                            ...             ...\n",
      "Tunisia                                       2500            4000\n",
      "Tuvalu                                          18              31\n",
      "Uganda                                       65000           86000\n",
      "Uruguay                                        740            1200\n",
      "Venezuela (Bolivarian Republic of)            8100           14000\n",
      "\n",
      "[83 rows x 2 columns]\n"
     ]
    }
   ],
   "source": [
    "print(TB_greater_2018)"
   ]
  },
  {
   "cell_type": "code",
   "execution_count": 136,
   "metadata": {},
   "outputs": [],
   "source": [
    "TB_2000_2018[\"TB_incidence_change\"] = TB_2000_2018[\"e_inc_num_2018\"] - TB_2000_2018[\"e_inc_num_2000\"]"
   ]
  },
  {
   "cell_type": "code",
   "execution_count": 142,
   "metadata": {},
   "outputs": [],
   "source": [
    "TB_greater_2018 = TB_2000_2018[TB_2000_2018[\"TB_incidence_increase\"] >= 0]"
   ]
  },
  {
   "cell_type": "code",
   "execution_count": 148,
   "metadata": {},
   "outputs": [
    {
     "data": {
      "text/html": [
       "<div>\n",
       "<style scoped>\n",
       "    .dataframe tbody tr th:only-of-type {\n",
       "        vertical-align: middle;\n",
       "    }\n",
       "\n",
       "    .dataframe tbody tr th {\n",
       "        vertical-align: top;\n",
       "    }\n",
       "\n",
       "    .dataframe thead th {\n",
       "        text-align: right;\n",
       "    }\n",
       "</style>\n",
       "<table border=\"1\" class=\"dataframe\">\n",
       "  <thead>\n",
       "    <tr style=\"text-align: right;\">\n",
       "      <th></th>\n",
       "      <th>country</th>\n",
       "      <th>e_inc_num_2000</th>\n",
       "      <th>e_inc_num_2018</th>\n",
       "      <th>TB_incidence_increase</th>\n",
       "      <th>TB_incidence_change_ranked</th>\n",
       "    </tr>\n",
       "  </thead>\n",
       "  <tbody>\n",
       "    <tr>\n",
       "      <td>0</td>\n",
       "      <td>Afghanistan</td>\n",
       "      <td>39000</td>\n",
       "      <td>70000</td>\n",
       "      <td>31000</td>\n",
       "      <td>81.0</td>\n",
       "    </tr>\n",
       "    <tr>\n",
       "      <td>1</td>\n",
       "      <td>Algeria</td>\n",
       "      <td>23000</td>\n",
       "      <td>29000</td>\n",
       "      <td>6000</td>\n",
       "      <td>69.0</td>\n",
       "    </tr>\n",
       "    <tr>\n",
       "      <td>2</td>\n",
       "      <td>Angola</td>\n",
       "      <td>49000</td>\n",
       "      <td>109000</td>\n",
       "      <td>60000</td>\n",
       "      <td>83.0</td>\n",
       "    </tr>\n",
       "    <tr>\n",
       "      <td>3</td>\n",
       "      <td>Anguilla</td>\n",
       "      <td>3</td>\n",
       "      <td>3</td>\n",
       "      <td>0</td>\n",
       "      <td>7.0</td>\n",
       "    </tr>\n",
       "    <tr>\n",
       "      <td>4</td>\n",
       "      <td>Antigua and Barbuda</td>\n",
       "      <td>5</td>\n",
       "      <td>6</td>\n",
       "      <td>1</td>\n",
       "      <td>11.0</td>\n",
       "    </tr>\n",
       "    <tr>\n",
       "      <td>...</td>\n",
       "      <td>...</td>\n",
       "      <td>...</td>\n",
       "      <td>...</td>\n",
       "      <td>...</td>\n",
       "      <td>...</td>\n",
       "    </tr>\n",
       "    <tr>\n",
       "      <td>85</td>\n",
       "      <td>Tunisia</td>\n",
       "      <td>2500</td>\n",
       "      <td>4000</td>\n",
       "      <td>1500</td>\n",
       "      <td>49.0</td>\n",
       "    </tr>\n",
       "    <tr>\n",
       "      <td>86</td>\n",
       "      <td>Tuvalu</td>\n",
       "      <td>18</td>\n",
       "      <td>31</td>\n",
       "      <td>13</td>\n",
       "      <td>16.0</td>\n",
       "    </tr>\n",
       "    <tr>\n",
       "      <td>87</td>\n",
       "      <td>Uganda</td>\n",
       "      <td>65000</td>\n",
       "      <td>86000</td>\n",
       "      <td>21000</td>\n",
       "      <td>80.0</td>\n",
       "    </tr>\n",
       "    <tr>\n",
       "      <td>88</td>\n",
       "      <td>Uruguay</td>\n",
       "      <td>740</td>\n",
       "      <td>1200</td>\n",
       "      <td>460</td>\n",
       "      <td>38.0</td>\n",
       "    </tr>\n",
       "    <tr>\n",
       "      <td>89</td>\n",
       "      <td>Venezuela (Bolivarian Republic of)</td>\n",
       "      <td>8100</td>\n",
       "      <td>14000</td>\n",
       "      <td>5900</td>\n",
       "      <td>66.0</td>\n",
       "    </tr>\n",
       "  </tbody>\n",
       "</table>\n",
       "<p>90 rows × 5 columns</p>\n",
       "</div>"
      ],
      "text/plain": [
       "                               country  e_inc_num_2000  e_inc_num_2018  \\\n",
       "0                          Afghanistan           39000           70000   \n",
       "1                              Algeria           23000           29000   \n",
       "2                               Angola           49000          109000   \n",
       "3                             Anguilla               3               3   \n",
       "4                  Antigua and Barbuda               5               6   \n",
       "..                                 ...             ...             ...   \n",
       "85                             Tunisia            2500            4000   \n",
       "86                              Tuvalu              18              31   \n",
       "87                              Uganda           65000           86000   \n",
       "88                             Uruguay             740            1200   \n",
       "89  Venezuela (Bolivarian Republic of)            8100           14000   \n",
       "\n",
       "    TB_incidence_increase  TB_incidence_change_ranked  \n",
       "0                   31000                        81.0  \n",
       "1                    6000                        69.0  \n",
       "2                   60000                        83.0  \n",
       "3                       0                         7.0  \n",
       "4                       1                        11.0  \n",
       "..                    ...                         ...  \n",
       "85                   1500                        49.0  \n",
       "86                     13                        16.0  \n",
       "87                  21000                        80.0  \n",
       "88                    460                        38.0  \n",
       "89                   5900                        66.0  \n",
       "\n",
       "[90 rows x 5 columns]"
      ]
     },
     "execution_count": 148,
     "metadata": {},
     "output_type": "execute_result"
    }
   ],
   "source": [
    "TB_greater_2018.reset_index()"
   ]
  },
  {
   "cell_type": "code",
   "execution_count": 149,
   "metadata": {},
   "outputs": [],
   "source": [
    "TB_increase_sort = TB_greater_2018.set_index(\"TB_incidence_change_ranked\")"
   ]
  },
  {
   "cell_type": "code",
   "execution_count": 150,
   "metadata": {},
   "outputs": [
    {
     "data": {
      "text/html": [
       "<div>\n",
       "<style scoped>\n",
       "    .dataframe tbody tr th:only-of-type {\n",
       "        vertical-align: middle;\n",
       "    }\n",
       "\n",
       "    .dataframe tbody tr th {\n",
       "        vertical-align: top;\n",
       "    }\n",
       "\n",
       "    .dataframe thead th {\n",
       "        text-align: right;\n",
       "    }\n",
       "</style>\n",
       "<table border=\"1\" class=\"dataframe\">\n",
       "  <thead>\n",
       "    <tr style=\"text-align: right;\">\n",
       "      <th></th>\n",
       "      <th>e_inc_num_2000</th>\n",
       "      <th>e_inc_num_2018</th>\n",
       "      <th>TB_incidence_increase</th>\n",
       "    </tr>\n",
       "    <tr>\n",
       "      <th>TB_incidence_change_ranked</th>\n",
       "      <th></th>\n",
       "      <th></th>\n",
       "      <th></th>\n",
       "    </tr>\n",
       "  </thead>\n",
       "  <tbody>\n",
       "    <tr>\n",
       "      <td>7.0</td>\n",
       "      <td>0</td>\n",
       "      <td>0</td>\n",
       "      <td>0</td>\n",
       "    </tr>\n",
       "    <tr>\n",
       "      <td>7.0</td>\n",
       "      <td>0</td>\n",
       "      <td>0</td>\n",
       "      <td>0</td>\n",
       "    </tr>\n",
       "    <tr>\n",
       "      <td>7.0</td>\n",
       "      <td>3</td>\n",
       "      <td>3</td>\n",
       "      <td>0</td>\n",
       "    </tr>\n",
       "    <tr>\n",
       "      <td>7.0</td>\n",
       "      <td>0</td>\n",
       "      <td>0</td>\n",
       "      <td>0</td>\n",
       "    </tr>\n",
       "    <tr>\n",
       "      <td>7.0</td>\n",
       "      <td>170</td>\n",
       "      <td>170</td>\n",
       "      <td>0</td>\n",
       "    </tr>\n",
       "    <tr>\n",
       "      <td>...</td>\n",
       "      <td>...</td>\n",
       "      <td>...</td>\n",
       "      <td>...</td>\n",
       "    </tr>\n",
       "    <tr>\n",
       "      <td>86.0</td>\n",
       "      <td>282000</td>\n",
       "      <td>357000</td>\n",
       "      <td>75000</td>\n",
       "    </tr>\n",
       "    <tr>\n",
       "      <td>87.0</td>\n",
       "      <td>154000</td>\n",
       "      <td>270000</td>\n",
       "      <td>116000</td>\n",
       "    </tr>\n",
       "    <tr>\n",
       "      <td>88.0</td>\n",
       "      <td>460000</td>\n",
       "      <td>591000</td>\n",
       "      <td>131000</td>\n",
       "    </tr>\n",
       "    <tr>\n",
       "      <td>89.0</td>\n",
       "      <td>268000</td>\n",
       "      <td>429000</td>\n",
       "      <td>161000</td>\n",
       "    </tr>\n",
       "    <tr>\n",
       "      <td>90.0</td>\n",
       "      <td>392000</td>\n",
       "      <td>562000</td>\n",
       "      <td>170000</td>\n",
       "    </tr>\n",
       "  </tbody>\n",
       "</table>\n",
       "<p>90 rows × 3 columns</p>\n",
       "</div>"
      ],
      "text/plain": [
       "                            e_inc_num_2000  e_inc_num_2018  \\\n",
       "TB_incidence_change_ranked                                   \n",
       "7.0                                      0               0   \n",
       "7.0                                      0               0   \n",
       "7.0                                      3               3   \n",
       "7.0                                      0               0   \n",
       "7.0                                    170             170   \n",
       "...                                    ...             ...   \n",
       "86.0                                282000          357000   \n",
       "87.0                                154000          270000   \n",
       "88.0                                460000          591000   \n",
       "89.0                                268000          429000   \n",
       "90.0                                392000          562000   \n",
       "\n",
       "                            TB_incidence_increase  \n",
       "TB_incidence_change_ranked                         \n",
       "7.0                                             0  \n",
       "7.0                                             0  \n",
       "7.0                                             0  \n",
       "7.0                                             0  \n",
       "7.0                                             0  \n",
       "...                                           ...  \n",
       "86.0                                        75000  \n",
       "87.0                                       116000  \n",
       "88.0                                       131000  \n",
       "89.0                                       161000  \n",
       "90.0                                       170000  \n",
       "\n",
       "[90 rows x 3 columns]"
      ]
     },
     "execution_count": 150,
     "metadata": {},
     "output_type": "execute_result"
    }
   ],
   "source": [
    "TB_increase_sort.sort_index() #FIGURE OUT HOW NOT TO LOSE COUNTRIES HERE"
   ]
  },
  {
   "cell_type": "code",
   "execution_count": null,
   "metadata": {},
   "outputs": [],
   "source": []
  },
  {
   "cell_type": "code",
   "execution_count": 102,
   "metadata": {},
   "outputs": [
    {
     "name": "stdout",
     "output_type": "stream",
     "text": [
      "                           e_inc_num_2000  e_inc_num_2018  \\\n",
      "country                                                     \n",
      "Afghanistan                         39000           70000   \n",
      "Albania                               690             510   \n",
      "Algeria                             23000           29000   \n",
      "American Samoa                          3               0   \n",
      "Andorra                                14               2   \n",
      "...                                   ...             ...   \n",
      "Wallis and Futuna Islands               2               0   \n",
      "West Bank and Gaza Strip              100              38   \n",
      "Yemen                               20000           14000   \n",
      "Zambia                              79000           60000   \n",
      "Zimbabwe                            72000           30000   \n",
      "\n",
      "                           TB_incidence_increase  TB_incidence_change_ranked  \n",
      "country                                                                       \n",
      "Afghanistan                                31000                       199.0  \n",
      "Albania                                     -180                        80.0  \n",
      "Algeria                                     6000                       187.0  \n",
      "American Samoa                                -3                       112.0  \n",
      "Andorra                                      -12                       103.0  \n",
      "...                                          ...                         ...  \n",
      "Wallis and Futuna Islands                     -2                       114.0  \n",
      "West Bank and Gaza Strip                     -62                        91.0  \n",
      "Yemen                                      -6000                        29.0  \n",
      "Zambia                                    -19000                        15.0  \n",
      "Zimbabwe                                  -42000                         8.0  \n",
      "\n",
      "[208 rows x 4 columns]\n"
     ]
    }
   ],
   "source": [
    "print(TB_greater_2018)"
   ]
  },
  {
   "cell_type": "code",
   "execution_count": 54,
   "metadata": {},
   "outputs": [],
   "source": [
    "#FIGURE OUT WHAT AREA EACH OF THESE COUNTRIES IS IN AND WHAT PORTION ARE HIGHER"
   ]
  },
  {
   "cell_type": "code",
   "execution_count": null,
   "metadata": {},
   "outputs": [],
   "source": []
  },
  {
   "cell_type": "code",
   "execution_count": null,
   "metadata": {},
   "outputs": [],
   "source": []
  },
  {
   "cell_type": "code",
   "execution_count": 121,
   "metadata": {},
   "outputs": [],
   "source": [
    "#Heatmap Code"
   ]
  },
  {
   "cell_type": "code",
   "execution_count": 122,
   "metadata": {},
   "outputs": [],
   "source": [
    "TB_data_2018_HM = TB_data[TB_data[\"year\"]==2018]"
   ]
  },
  {
   "cell_type": "code",
   "execution_count": 126,
   "metadata": {},
   "outputs": [],
   "source": [
    "clean_2018 = TB_data_2018_HM.drop([\"iso2\",\"iso3\", \"e_inc_tbhiv_num_hi\", \"iso_numeric\", \"g_whoregion\", \"year\", \"e_pop_num\", \"e_inc_100k_lo\", \"e_tbhiv_prct\", \"e_inc_100k_hi\", \"e_inc_num_hi\", \"e_inc_num_lo\", \"e_pop_num\", \"e_tbhiv_prct_lo\", \"e_tbhiv_prct_hi\", \"e_inc_tbhiv_100k_lo\", \"e_inc_tbhiv_100k_hi\", \"cfr_lo\", \"cfr_hi\", \"e_inc_tbhiv_num_lo\", \"e_mort_num_lo\", \"cfr_pct_hi\", \"e_mort_num_hi\", \"cfr_pct_lo\", \"c_cdr_lo\", \"c_cdr_hi\", \"e_mort_100k_hi\", \"e_mort_100k_lo\", \"e_mort_tbhiv_num_hi\", \"e_mort_tbhiv_num_lo\", \"e_mort_exc_tbhiv_100k_hi\", \"e_mort_exc_tbhiv_100k_lo\", \"e_mort_tbhiv_100k_lo\", \"e_mort_tbhiv_100k_hi\", \"e_mort_tbhiv_100k_lo\", \"e_mort_exc_tbhiv_num_hi\", \"e_mort_exc_tbhiv_100k_lo\", \"e_mort_exc_tbhiv_num_lo\",\"e_mort_exc_tbhiv_100k_hi\", \"e_mort_exc_tbhiv_num\", \"e_mort_exc_tbhiv_num\", \"e_mort_num\", \"e_mort_tbhiv_num\", \"e_inc_tbhiv_num\", \"e_inc_num\", \"e_mort_tbhiv_num\", \"cfr\"], axis=1)"
   ]
  },
  {
   "cell_type": "code",
   "execution_count": 127,
   "metadata": {},
   "outputs": [],
   "source": [
    "clean_2018 = clean_2018.set_index(\"country\")"
   ]
  },
  {
   "cell_type": "code",
   "execution_count": 141,
   "metadata": {},
   "outputs": [],
   "source": [
    "clean_2018[\"Incidence per 100k\"] = clean_2018[\"e_inc_100k\"].rank(method=\"max\")"
   ]
  },
  {
   "cell_type": "code",
   "execution_count": 142,
   "metadata": {},
   "outputs": [],
   "source": [
    "clean_2018[\"Incidence of HIV positive cases per 100k\"] = clean_2018[\"e_inc_tbhiv_100k\"].rank(method=\"max\")"
   ]
  },
  {
   "cell_type": "code",
   "execution_count": 143,
   "metadata": {},
   "outputs": [],
   "source": [
    "clean_2018[\"Mortality of HIV negative cases per 100K\"] = clean_2018[\"e_mort_exc_tbhiv_100k\"].rank(method=\"max\")"
   ]
  },
  {
   "cell_type": "code",
   "execution_count": 144,
   "metadata": {},
   "outputs": [],
   "source": [
    "clean_2018[\"Mortality of HIV positive cases per 100k\"] = clean_2018[\"e_mort_tbhiv_100k\"].rank(method=\"max\")"
   ]
  },
  {
   "cell_type": "code",
   "execution_count": 145,
   "metadata": {},
   "outputs": [],
   "source": [
    "clean_2018[\"Total mortality per 100k\"] = clean_2018[\"e_mort_100k\"].rank(method=\"max\")"
   ]
  },
  {
   "cell_type": "code",
   "execution_count": 146,
   "metadata": {},
   "outputs": [],
   "source": [
    "clean_2018[\"Case fatality ratio\"] = clean_2018[\"cfr_pct\"].rank(method=\"max\")"
   ]
  },
  {
   "cell_type": "code",
   "execution_count": 147,
   "metadata": {},
   "outputs": [],
   "source": [
    "clean_2018[\"New incident cases per 100k\"] = clean_2018[\"c_newinc_100k\"].rank(method=\"max\")"
   ]
  },
  {
   "cell_type": "code",
   "execution_count": 148,
   "metadata": {},
   "outputs": [],
   "source": [
    "clean_2018[\"Case detection rate\"] = clean_2018[\"c_cdr\"].rank(method=\"max\", ascending=False)"
   ]
  },
  {
   "cell_type": "code",
   "execution_count": 151,
   "metadata": {},
   "outputs": [],
   "source": [
    "rankings_2018 = clean_2018[[\"Incidence per 100k\", \"Incidence of HIV positive cases per 100k\", \"Mortality of HIV negative cases per 100K\", \"Mortality of HIV positive cases per 100k\", \"Total mortality per 100k\", \"Case fatality ratio\", \"New incident cases per 100k\", \"Case detection rate\"]]"
   ]
  },
  {
   "cell_type": "code",
   "execution_count": 162,
   "metadata": {},
   "outputs": [
    {
     "data": {
      "image/png": "[encoded data removed]",
      "text/plain": [
       "<Figure size 864x3240 with 2 Axes>"
      ]
     },
     "metadata": {},
     "output_type": "display_data"
    }
   ],
   "source": [
    "import numpy as np; np.random.seed(0)\n",
    "import seaborn as sns; sns.set()\n",
    "fig_dims=(12,45)\n",
    "fig, ax = plt.subplots(figsize=fig_dims)\n",
    "ax = sns.heatmap(rankings_2018, vmin=1, vmax=216, linewidth=.2, cbar_kws = dict(use_gridspec=False,location=\"top\"), cmap=\"coolwarm\")\n",
    "# split axes of heatmap to put colorbar\n",
    "#ax_divider = make_axes_locatable(ax)\n",
    "# define size and padding of axes for colorbar\n",
    "#cax = ax_divider.append_axes('top', size = '5%', pad = '2%')\n",
    "# make colorbar for heatmap. \n",
    "# Heatmap returns an axes obj but you need to get a mappable obj (get_children)\n",
    "#colorbar(ax.get_children()[0], cax = cax, orientation = 'horizontal')\n",
    "# locate colorbar ticks\n",
    "#cax.xaxis.set_ticks_position('top')\n",
    "ax.set_title(\"Heatmap of Country Data\")\n",
    "plt.show()"
   ]
  },
  {
   "cell_type": "code",
   "execution_count": null,
   "metadata": {},
   "outputs": [],
   "source": []
  }
 ],
 "metadata": {
  "kernelspec": {
   "display_name": "Python 3",
   "language": "python",
   "name": "python3"
  },
  "language_info": {
   "codemirror_mode": {
    "name": "ipython",
    "version": 3
   },
   "file_extension": ".py",
   "mimetype": "text/x-python",
   "name": "python",
   "nbconvert_exporter": "python",
   "pygments_lexer": "ipython3",
   "version": "3.7.4"
  }
 },
 "nbformat": 4,
 "nbformat_minor": 2
}
